{
  "nbformat": 4,
  "nbformat_minor": 0,
  "metadata": {
    "kernelspec": {
      "display_name": "Python 3",
      "language": "python",
      "name": "python3"
    },
    "language_info": {
      "codemirror_mode": {
        "name": "ipython",
        "version": 3
      },
      "file_extension": ".py",
      "mimetype": "text/x-python",
      "name": "python",
      "nbconvert_exporter": "python",
      "pygments_lexer": "ipython3",
      "version": "3.7.4"
    },
    "colab": {
      "name": "Crawling - Selenium BeautifulSoup.ipynb",
      "provenance": []
    }
  },
  "cells": [
    {
      "cell_type": "code",
      "metadata": {
        "colab": {
          "base_uri": "https://localhost:8080/"
        },
        "id": "DDMCnUsJCzPV",
        "outputId": "09afcea1-c0c6-4c17-a876-918a8e5e26c2"
      },
      "source": [
        "from google.colab import drive\n",
        "drive.mount('/content/drive/')"
      ],
      "execution_count": null,
      "outputs": [
        {
          "output_type": "stream",
          "text": [
            "Mounted at /content/drive/\n"
          ],
          "name": "stdout"
        }
      ]
    },
    {
      "cell_type": "code",
      "metadata": {
        "id": "uX4VcGSCCz6e"
      },
      "source": [
        "#Change the directory to your workspace\n",
        "\n",
        "import os\n",
        "os.chdir('/content/drive/My Drive')"
      ],
      "execution_count": null,
      "outputs": []
    },
    {
      "cell_type": "code",
      "metadata": {
        "colab": {
          "base_uri": "https://localhost:8080/"
        },
        "id": "EhqdR1fxDIz0",
        "outputId": "592eab07-9699-4550-bded-771ec671657a"
      },
      "source": [
        "#!pip install selenium\n",
        "\n",
        "!pip install webdriver-manager"
      ],
      "execution_count": null,
      "outputs": [
        {
          "output_type": "stream",
          "text": [
            "Collecting selenium\n",
            "\u001b[?25l  Downloading https://files.pythonhosted.org/packages/80/d6/4294f0b4bce4de0abf13e17190289f9d0613b0a44e5dd6a7f5ca98459853/selenium-3.141.0-py2.py3-none-any.whl (904kB)\n",
            "\r\u001b[K     |▍                               | 10kB 19.1MB/s eta 0:00:01\r\u001b[K     |▊                               | 20kB 17.9MB/s eta 0:00:01\r\u001b[K     |█                               | 30kB 10.7MB/s eta 0:00:01\r\u001b[K     |█▌                              | 40kB 8.9MB/s eta 0:00:01\r\u001b[K     |█▉                              | 51kB 6.8MB/s eta 0:00:01\r\u001b[K     |██▏                             | 61kB 7.2MB/s eta 0:00:01\r\u001b[K     |██▌                             | 71kB 7.2MB/s eta 0:00:01\r\u001b[K     |███                             | 81kB 7.7MB/s eta 0:00:01\r\u001b[K     |███▎                            | 92kB 7.4MB/s eta 0:00:01\r\u001b[K     |███▋                            | 102kB 7.6MB/s eta 0:00:01\r\u001b[K     |████                            | 112kB 7.6MB/s eta 0:00:01\r\u001b[K     |████▍                           | 122kB 7.6MB/s eta 0:00:01\r\u001b[K     |████▊                           | 133kB 7.6MB/s eta 0:00:01\r\u001b[K     |█████                           | 143kB 7.6MB/s eta 0:00:01\r\u001b[K     |█████▍                          | 153kB 7.6MB/s eta 0:00:01\r\u001b[K     |█████▉                          | 163kB 7.6MB/s eta 0:00:01\r\u001b[K     |██████▏                         | 174kB 7.6MB/s eta 0:00:01\r\u001b[K     |██████▌                         | 184kB 7.6MB/s eta 0:00:01\r\u001b[K     |██████▉                         | 194kB 7.6MB/s eta 0:00:01\r\u001b[K     |███████▎                        | 204kB 7.6MB/s eta 0:00:01\r\u001b[K     |███████▋                        | 215kB 7.6MB/s eta 0:00:01\r\u001b[K     |████████                        | 225kB 7.6MB/s eta 0:00:01\r\u001b[K     |████████▎                       | 235kB 7.6MB/s eta 0:00:01\r\u001b[K     |████████▊                       | 245kB 7.6MB/s eta 0:00:01\r\u001b[K     |█████████                       | 256kB 7.6MB/s eta 0:00:01\r\u001b[K     |█████████▍                      | 266kB 7.6MB/s eta 0:00:01\r\u001b[K     |█████████▉                      | 276kB 7.6MB/s eta 0:00:01\r\u001b[K     |██████████▏                     | 286kB 7.6MB/s eta 0:00:01\r\u001b[K     |██████████▌                     | 296kB 7.6MB/s eta 0:00:01\r\u001b[K     |██████████▉                     | 307kB 7.6MB/s eta 0:00:01\r\u001b[K     |███████████▎                    | 317kB 7.6MB/s eta 0:00:01\r\u001b[K     |███████████▋                    | 327kB 7.6MB/s eta 0:00:01\r\u001b[K     |████████████                    | 337kB 7.6MB/s eta 0:00:01\r\u001b[K     |████████████▎                   | 348kB 7.6MB/s eta 0:00:01\r\u001b[K     |████████████▊                   | 358kB 7.6MB/s eta 0:00:01\r\u001b[K     |█████████████                   | 368kB 7.6MB/s eta 0:00:01\r\u001b[K     |█████████████▍                  | 378kB 7.6MB/s eta 0:00:01\r\u001b[K     |█████████████▊                  | 389kB 7.6MB/s eta 0:00:01\r\u001b[K     |██████████████▏                 | 399kB 7.6MB/s eta 0:00:01\r\u001b[K     |██████████████▌                 | 409kB 7.6MB/s eta 0:00:01\r\u001b[K     |██████████████▉                 | 419kB 7.6MB/s eta 0:00:01\r\u001b[K     |███████████████▏                | 430kB 7.6MB/s eta 0:00:01\r\u001b[K     |███████████████▋                | 440kB 7.6MB/s eta 0:00:01\r\u001b[K     |████████████████                | 450kB 7.6MB/s eta 0:00:01\r\u001b[K     |████████████████▎               | 460kB 7.6MB/s eta 0:00:01\r\u001b[K     |████████████████▋               | 471kB 7.6MB/s eta 0:00:01\r\u001b[K     |█████████████████               | 481kB 7.6MB/s eta 0:00:01\r\u001b[K     |█████████████████▍              | 491kB 7.6MB/s eta 0:00:01\r\u001b[K     |█████████████████▊              | 501kB 7.6MB/s eta 0:00:01\r\u001b[K     |██████████████████▏             | 512kB 7.6MB/s eta 0:00:01\r\u001b[K     |██████████████████▌             | 522kB 7.6MB/s eta 0:00:01\r\u001b[K     |██████████████████▉             | 532kB 7.6MB/s eta 0:00:01\r\u001b[K     |███████████████████▏            | 542kB 7.6MB/s eta 0:00:01\r\u001b[K     |███████████████████▋            | 552kB 7.6MB/s eta 0:00:01\r\u001b[K     |████████████████████            | 563kB 7.6MB/s eta 0:00:01\r\u001b[K     |████████████████████▎           | 573kB 7.6MB/s eta 0:00:01\r\u001b[K     |████████████████████▋           | 583kB 7.6MB/s eta 0:00:01\r\u001b[K     |█████████████████████           | 593kB 7.6MB/s eta 0:00:01\r\u001b[K     |█████████████████████▍          | 604kB 7.6MB/s eta 0:00:01\r\u001b[K     |█████████████████████▊          | 614kB 7.6MB/s eta 0:00:01\r\u001b[K     |██████████████████████          | 624kB 7.6MB/s eta 0:00:01\r\u001b[K     |██████████████████████▌         | 634kB 7.6MB/s eta 0:00:01\r\u001b[K     |██████████████████████▉         | 645kB 7.6MB/s eta 0:00:01\r\u001b[K     |███████████████████████▏        | 655kB 7.6MB/s eta 0:00:01\r\u001b[K     |███████████████████████▌        | 665kB 7.6MB/s eta 0:00:01\r\u001b[K     |████████████████████████        | 675kB 7.6MB/s eta 0:00:01\r\u001b[K     |████████████████████████▎       | 686kB 7.6MB/s eta 0:00:01\r\u001b[K     |████████████████████████▋       | 696kB 7.6MB/s eta 0:00:01\r\u001b[K     |█████████████████████████       | 706kB 7.6MB/s eta 0:00:01\r\u001b[K     |█████████████████████████▍      | 716kB 7.6MB/s eta 0:00:01\r\u001b[K     |█████████████████████████▊      | 727kB 7.6MB/s eta 0:00:01\r\u001b[K     |██████████████████████████      | 737kB 7.6MB/s eta 0:00:01\r\u001b[K     |██████████████████████████▍     | 747kB 7.6MB/s eta 0:00:01\r\u001b[K     |██████████████████████████▉     | 757kB 7.6MB/s eta 0:00:01\r\u001b[K     |███████████████████████████▏    | 768kB 7.6MB/s eta 0:00:01\r\u001b[K     |███████████████████████████▌    | 778kB 7.6MB/s eta 0:00:01\r\u001b[K     |████████████████████████████    | 788kB 7.6MB/s eta 0:00:01\r\u001b[K     |████████████████████████████▎   | 798kB 7.6MB/s eta 0:00:01\r\u001b[K     |████████████████████████████▋   | 808kB 7.6MB/s eta 0:00:01\r\u001b[K     |█████████████████████████████   | 819kB 7.6MB/s eta 0:00:01\r\u001b[K     |█████████████████████████████▍  | 829kB 7.6MB/s eta 0:00:01\r\u001b[K     |█████████████████████████████▊  | 839kB 7.6MB/s eta 0:00:01\r\u001b[K     |██████████████████████████████  | 849kB 7.6MB/s eta 0:00:01\r\u001b[K     |██████████████████████████████▍ | 860kB 7.6MB/s eta 0:00:01\r\u001b[K     |██████████████████████████████▉ | 870kB 7.6MB/s eta 0:00:01\r\u001b[K     |███████████████████████████████▏| 880kB 7.6MB/s eta 0:00:01\r\u001b[K     |███████████████████████████████▌| 890kB 7.6MB/s eta 0:00:01\r\u001b[K     |███████████████████████████████▉| 901kB 7.6MB/s eta 0:00:01\r\u001b[K     |████████████████████████████████| 911kB 7.6MB/s \n",
            "\u001b[?25hRequirement already satisfied: urllib3 in /usr/local/lib/python3.6/dist-packages (from selenium) (1.24.3)\n",
            "Installing collected packages: selenium\n",
            "Successfully installed selenium-3.141.0\n"
          ],
          "name": "stdout"
        }
      ]
    },
    {
      "cell_type": "code",
      "metadata": {
        "id": "6IIb14zYCei-"
      },
      "source": [
        "from selenium import webdriver\n",
        "from selenium.webdriver.common.by import By\n",
        "from selenium.webdriver.support.ui import WebDriverWait\n",
        "from selenium.webdriver.support import expected_conditions as EC\n",
        "from webdriver_manager.chrome import ChromeDriverManager\n",
        "\n",
        "from urllib.request import urlopen\n",
        "\n",
        "from bs4 import BeautifulSoup\n",
        "\n",
        "import pandas as pd\n",
        "\n",
        "driver = webdriver.Chrome(executable_path='C:\\Program Files\\Python3\\Scripts\\chromedriver.exe')\n",
        "\n",
        "review_produk=[]"
      ],
      "execution_count": null,
      "outputs": []
    },
    {
      "cell_type": "code",
      "metadata": {
        "id": "W4uPmD_mCejG"
      },
      "source": [
        "indeks = 1\n",
        "while indeks < 11:#page\n",
        "    link = \"https://reviews.femaledaily.com/products/eyes/eye-shadow-pallete/emina/emina-pop-rouge-pressed-eyeshadow?cat=&cat_id=0&age_range=&skin_type=&skin_tone=&skin_undertone=&hair_texture=&hair_type=&order=newest&page=\"+str(indeks)\n",
        "    html = urlopen(link).read()\n",
        "    soup = BeautifulSoup(html, \"lxml\")\n",
        "\n",
        "    driver.get(link)\n",
        "\n",
        "    wrapper = soup.find_all(\"div\", {\"class\": \"text-wrapper\"})\n",
        "    #     print(len(wrapper))\n",
        "\n",
        "    read_more = 0\n",
        "\n",
        "    #find reviews of products that are summarized\n",
        "    for p in wrapper:\n",
        "        cek = p.find(\"div\", {\"class\": \"review-card-content\"}).get_text()\n",
        "        search_this='Read more'\n",
        "        if(search_this in cek):\n",
        "            read_more+=1\n",
        "\n",
        "    i=0\n",
        "    while i < read_more:\n",
        "        element =driver.find_element_by_xpath(\"//span[@class ='read-more']\")\n",
        "        driver.execute_script(\"arguments[0].click();\", element)\n",
        "        i+=1\n",
        "\n",
        "    #collect data\n",
        "    review = driver.find_elements_by_class_name(\"text-content\");\n",
        "    i=0\n",
        "    while i <len(wrapper):\n",
        "        review_produk.append(review[i].text)\n",
        "        i+=1\n",
        "    indeks=indeks+1\n",
        "\n",
        "    "
      ],
      "execution_count": null,
      "outputs": []
    },
    {
      "cell_type": "code",
      "metadata": {
        "id": "5N4b8y8eCejK",
        "outputId": "485afdf7-46d2-4007-b0ca-7bc1d85caab8"
      },
      "source": [
        "sc_review_final = {'review': review_produk}\n",
        "df = pd.DataFrame(sc_review_final, columns=['review'])\n",
        "print(df)\n",
        "df.to_csv('fd-dataset-PopRougePressedEyeShadow2-emina.csv', sep=',', encoding='utf-8', index=False)"
      ],
      "execution_count": null,
      "outputs": [
        {
          "output_type": "stream",
          "text": [
            "                                               review\n",
            "0   awal beli ga terlalu berharap banyak karena ha...\n",
            "1   eyeshadow pertamaku! awal beli pas baru-baru b...\n",
            "2   Pilihan warnanya bagus banget sih. Cuma dengan...\n",
            "3   suka banget sama warna pink dan shimmer whiten...\n",
            "4   bagus buat pemula yg mau belajar make up, just...\n",
            "..                                                ...\n",
            "95  buat pemula sih bagus bgt..warnanya cukup pigm...\n",
            "96  Warna eyeshadownya gemes dan lucu banget, ukur...\n",
            "97  eyeshadow imut yng isinya 3 warna yang semuany...\n",
            "98  ini juga merupakan eyeshadow mini palette pert...\n",
            "99  Aku suka bgt sama smua packagingnya emina, luc...\n",
            "\n",
            "[100 rows x 1 columns]\n"
          ],
          "name": "stdout"
        }
      ]
    }
  ]
}