{
  "nbformat": 4,
  "nbformat_minor": 0,
  "metadata": {
    "colab": {
      "name": "word2vec dan CNN.ipynb",
      "provenance": [],
      "collapsed_sections": []
    },
    "kernelspec": {
      "name": "python3",
      "display_name": "Python 3"
    }
  },
  "cells": [
    {
      "cell_type": "code",
      "metadata": {
        "id": "dzDaxUd4FeQ9"
      },
      "source": [
        "!pip install --upgrade gensim"
      ],
      "execution_count": null,
      "outputs": []
    },
    {
      "cell_type": "code",
      "metadata": {
        "id": "DMhh5Zo0F5dy"
      },
      "source": [
        "! unzip \"/content/drive/MyDrive/Salinan idwiki_word2vec_300.zip\" -d \"/content/\""
      ],
      "execution_count": null,
      "outputs": []
    },
    {
      "cell_type": "code",
      "metadata": {
        "colab": {
          "base_uri": "https://localhost:8080/"
        },
        "id": "0ESUzJGTF5wA",
        "outputId": "00feaf7c-fd23-417a-9e5c-1f9d17d3a9a6"
      },
      "source": [
        "import gensim\n",
        "import  numpy as np\n",
        "\n",
        "path = '/content/idwiki_word2vec_300.model'\n",
        "word2vec = gensim.models.word2vec.Word2Vec.load(path)\n",
        "print(word2vec.most_similar('raja'))"
      ],
      "execution_count": null,
      "outputs": [
        {
          "output_type": "stream",
          "text": [
            "/usr/local/lib/python3.6/dist-packages/ipykernel_launcher.py:6: DeprecationWarning: Call to deprecated `most_similar` (Method will be removed in 4.0.0, use self.wv.most_similar() instead).\n",
            "  \n"
          ],
          "name": "stderr"
        },
        {
          "output_type": "stream",
          "text": [
            "[('rajanya', 0.6927156448364258), ('kerajaan', 0.6887479424476624), ('penguasa', 0.6561841368675232), ('maharaja', 0.6353377103805542), ('firaun', 0.6156154870986938), ('kertanagara', 0.6069246530532837), ('purnawarman', 0.6000310182571411), ('ratu', 0.5888345241546631), ('permaisuri', 0.5711089372634888), ('takhta', 0.5686213970184326)]\n"
          ],
          "name": "stdout"
        }
      ]
    },
    {
      "cell_type": "code",
      "metadata": {
        "colab": {
          "base_uri": "https://localhost:8080/"
        },
        "id": "NX1XizxzF5z6",
        "outputId": "370b4b8b-fd58-4378-9da6-fc2a77d297ab"
      },
      "source": [
        "word2vec.wv.syn0.shape"
      ],
      "execution_count": null,
      "outputs": [
        {
          "output_type": "stream",
          "text": [
            "/usr/local/lib/python3.6/dist-packages/ipykernel_launcher.py:1: DeprecationWarning: Call to deprecated `syn0` (Attribute will be removed in 4.0.0, use self.vectors instead).\n",
            "  \"\"\"Entry point for launching an IPython kernel.\n"
          ],
          "name": "stderr"
        },
        {
          "output_type": "execute_result",
          "data": {
            "text/plain": [
              "(331792, 300)"
            ]
          },
          "metadata": {
            "tags": []
          },
          "execution_count": 4
        }
      ]
    },
    {
      "cell_type": "code",
      "metadata": {
        "id": "JJEyO53PF57o"
      },
      "source": [
        "from tensorflow.keras.preprocessing.text import Tokenizer\n",
        "from tensorflow.keras.preprocessing.sequence import pad_sequences\n",
        "from tensorflow.keras.utils import to_categorical\n",
        "from tensorflow.keras.models import Sequential, load_model\n",
        "from tensorflow.keras.layers import Dense, Embedding, Activation, Dropout\n",
        "from tensorflow.keras.layers import Conv1D, MaxPooling1D, GlobalMaxPooling1D\n",
        "\n",
        "import numpy as np\n",
        "import pandas as pd\n",
        "\n",
        "import tensorflow as tf\n",
        "from sklearn.model_selection import train_test_split\n",
        "from tensorflow.keras.optimizers import SGD"
      ],
      "execution_count": null,
      "outputs": []
    },
    {
      "cell_type": "code",
      "metadata": {
        "colab": {
          "base_uri": "https://localhost:8080/",
          "height": 206
        },
        "id": "ZMxlfOqIF5-5",
        "outputId": "5230fe1a-ad56-4987-d5ac-1d6a66c230ed"
      },
      "source": [
        "df = pd.read_csv('/content/drive/MyDrive/dataset_clean_label.csv',header=0, names=['sentimen','text'])\n",
        "df.head()"
      ],
      "execution_count": null,
      "outputs": [
        {
          "output_type": "execute_result",
          "data": {
            "text/html": [
              "<div>\n",
              "<style scoped>\n",
              "    .dataframe tbody tr th:only-of-type {\n",
              "        vertical-align: middle;\n",
              "    }\n",
              "\n",
              "    .dataframe tbody tr th {\n",
              "        vertical-align: top;\n",
              "    }\n",
              "\n",
              "    .dataframe thead th {\n",
              "        text-align: right;\n",
              "    }\n",
              "</style>\n",
              "<table border=\"1\" class=\"dataframe\">\n",
              "  <thead>\n",
              "    <tr style=\"text-align: right;\">\n",
              "      <th></th>\n",
              "      <th>sentimen</th>\n",
              "      <th>text</th>\n",
              "    </tr>\n",
              "  </thead>\n",
              "  <tbody>\n",
              "    <tr>\n",
              "      <th>0</th>\n",
              "      <td>1</td>\n",
              "      <td>ini cukup bagus sih untuk cream blush dengan h...</td>\n",
              "    </tr>\n",
              "    <tr>\n",
              "      <th>1</th>\n",
              "      <td>1</td>\n",
              "      <td>well lumayan sih ini tidak terlalu pigmented t...</td>\n",
              "    </tr>\n",
              "    <tr>\n",
              "      <th>2</th>\n",
              "      <td>1</td>\n",
              "      <td>produk ini cocok banget sih dipake buat make u...</td>\n",
              "    </tr>\n",
              "    <tr>\n",
              "      <th>3</th>\n",
              "      <td>1</td>\n",
              "      <td>blush liquid cinta sudah murah terus hasil bag...</td>\n",
              "    </tr>\n",
              "    <tr>\n",
              "      <th>4</th>\n",
              "      <td>1</td>\n",
              "      <td>hmm suka nya dia kecil dan ringan tetapi ini m...</td>\n",
              "    </tr>\n",
              "  </tbody>\n",
              "</table>\n",
              "</div>"
            ],
            "text/plain": [
              "   sentimen                                               text\n",
              "0         1  ini cukup bagus sih untuk cream blush dengan h...\n",
              "1         1  well lumayan sih ini tidak terlalu pigmented t...\n",
              "2         1  produk ini cocok banget sih dipake buat make u...\n",
              "3         1  blush liquid cinta sudah murah terus hasil bag...\n",
              "4         1  hmm suka nya dia kecil dan ringan tetapi ini m..."
            ]
          },
          "metadata": {
            "tags": []
          },
          "execution_count": 6
        }
      ]
    },
    {
      "cell_type": "code",
      "metadata": {
        "colab": {
          "base_uri": "https://localhost:8080/"
        },
        "id": "DYOce2FmF6CT",
        "outputId": "03496783-1e3e-44ba-dde8-0388d009afe1"
      },
      "source": [
        "text = df['text'].tolist()\n",
        "print(len(text))"
      ],
      "execution_count": null,
      "outputs": [
        {
          "output_type": "stream",
          "text": [
            "11084\n"
          ],
          "name": "stdout"
        }
      ]
    },
    {
      "cell_type": "code",
      "metadata": {
        "colab": {
          "base_uri": "https://localhost:8080/"
        },
        "id": "3ecKOMeGF6FL",
        "outputId": "de44cc8b-ef24-46ca-b35b-4f0238e4d8a1"
      },
      "source": [
        "y = df['sentimen']\n",
        "y = to_categorical(y)\n",
        "print(y)"
      ],
      "execution_count": null,
      "outputs": [
        {
          "output_type": "stream",
          "text": [
            "[[0. 1. 0.]\n",
            " [0. 1. 0.]\n",
            " [0. 1. 0.]\n",
            " ...\n",
            " [1. 0. 0.]\n",
            " [1. 0. 0.]\n",
            " [0. 1. 0.]]\n"
          ],
          "name": "stdout"
        }
      ]
    },
    {
      "cell_type": "code",
      "metadata": {
        "colab": {
          "base_uri": "https://localhost:8080/"
        },
        "id": "yOn5TCzPF6Hy",
        "outputId": "9558c41e-b049-4e45-91e4-a1e0caeab3cc"
      },
      "source": [
        "df['sentimen'].value_counts()"
      ],
      "execution_count": null,
      "outputs": [
        {
          "output_type": "execute_result",
          "data": {
            "text/plain": [
              "1    8089\n",
              "0    1666\n",
              "2    1329\n",
              "Name: sentimen, dtype: int64"
            ]
          },
          "metadata": {
            "tags": []
          },
          "execution_count": 9
        }
      ]
    },
    {
      "cell_type": "code",
      "metadata": {
        "id": "cdCzDkmPF6Kf"
      },
      "source": [
        "token = Tokenizer(oov_token='<OOV>')\n",
        "token.fit_on_texts(text)"
      ],
      "execution_count": null,
      "outputs": []
    },
    {
      "cell_type": "code",
      "metadata": {
        "colab": {
          "base_uri": "https://localhost:8080/"
        },
        "id": "ncK0myXQF6Nj",
        "outputId": "35e43f09-8350-4f00-ec46-c4be3853a33e"
      },
      "source": [
        "token.index_word"
      ],
      "execution_count": null,
      "outputs": [
        {
          "output_type": "execute_result",
          "data": {
            "text/plain": [
              "{1: '<OOV>',\n",
              " 2: 'saya',\n",
              " 3: 'ini',\n",
              " 4: 'tidak',\n",
              " 5: 'dan',\n",
              " 6: 'yang',\n",
              " 7: 'pakai',\n",
              " 8: 'di',\n",
              " 9: 'banget',\n",
              " 10: 'tetapi',\n",
              " 11: 'warna',\n",
              " 12: 'bibir',\n",
              " 13: 'jadi',\n",
              " 14: 'karena',\n",
              " 15: 'juga',\n",
              " 16: 'kalau',\n",
              " 17: 'bikin',\n",
              " 18: 'begitu',\n",
              " 19: 'buat',\n",
              " 20: 'sangat',\n",
              " 21: 'suka',\n",
              " 22: 'nya',\n",
              " 23: 'sih',\n",
              " 24: 'kulit',\n",
              " 25: 'sama',\n",
              " 26: 'bagus',\n",
              " 27: 'cocok',\n",
              " 28: 'saja',\n",
              " 29: 'harga',\n",
              " 30: 'produk',\n",
              " 31: 'kering',\n",
              " 32: 'lama',\n",
              " 33: 'untuk',\n",
              " 34: 'pas',\n",
              " 35: 'sudah',\n",
              " 36: 'dia',\n",
              " 37: 'muka',\n",
              " 38: 'sunscreen',\n",
              " 39: 'liptint',\n",
              " 40: 'emina',\n",
              " 41: 'ada',\n",
              " 42: 'beli',\n",
              " 43: 'tekstur',\n",
              " 44: 'lebih',\n",
              " 45: 'agak',\n",
              " 46: 'itu',\n",
              " 47: 'terus',\n",
              " 48: 'enak',\n",
              " 49: 'lip',\n",
              " 50: 'bisa',\n",
              " 51: 'blush',\n",
              " 52: 'lagi',\n",
              " 53: 'lumayan',\n",
              " 54: 'ya',\n",
              " 55: 'pertama',\n",
              " 56: 'ke',\n",
              " 57: 'dari',\n",
              " 58: 'tahan',\n",
              " 59: 'kurang',\n",
              " 60: 'wangi',\n",
              " 61: 'murah',\n",
              " 62: 'coba',\n",
              " 63: 'minyak',\n",
              " 64: 'dipake',\n",
              " 65: 'terlalu',\n",
              " 66: 'repurchase',\n",
              " 67: 'gampang',\n",
              " 68: 'liat',\n",
              " 69: 'turut',\n",
              " 70: 'mau',\n",
              " 71: 'seperti',\n",
              " 72: 'banyak',\n",
              " 73: 'telah',\n",
              " 74: 'kali',\n",
              " 75: 'scrub',\n",
              " 76: 'cuma',\n",
              " 77: 'masih',\n",
              " 78: 'benar',\n",
              " 79: 'natural',\n",
              " 80: 'wajah',\n",
              " 81: 'rasa',\n",
              " 82: 'kaya',\n",
              " 83: 'hari',\n",
              " 84: 'awal',\n",
              " 85: 'ringan',\n",
              " 86: 'lain',\n",
              " 87: 'ku',\n",
              " 88: 'langsung',\n",
              " 89: 'cream',\n",
              " 90: 'dengan',\n",
              " 91: 'apa',\n",
              " 92: 'atau',\n",
              " 93: 'harus',\n",
              " 94: 'belum',\n",
              " 95: 'hasil',\n",
              " 96: 'bau',\n",
              " 97: 'deh',\n",
              " 98: 'malah',\n",
              " 99: 'mana',\n",
              " 100: 'emang',\n",
              " 101: 'make',\n",
              " 102: 'tint',\n",
              " 103: 'sekali',\n",
              " 104: 'biasa',\n",
              " 105: 'nyata',\n",
              " 106: 'ons',\n",
              " 107: 'cukup',\n",
              " 108: 'abis',\n",
              " 109: 'kecil',\n",
              " 110: 'baru',\n",
              " 111: 'makan',\n",
              " 112: 'keluar',\n",
              " 113: 'nggak',\n",
              " 114: 'si',\n",
              " 115: 'shade',\n",
              " 116: 'bakal',\n",
              " 117: 'cantik',\n",
              " 118: 'pink',\n",
              " 119: 'sayang',\n",
              " 120: 'tuh',\n",
              " 121: 'cepet',\n",
              " 122: 'cinta',\n",
              " 123: 'akhir',\n",
              " 124: 'cair',\n",
              " 125: 'waktu',\n",
              " 126: 'mungkin',\n",
              " 127: 'dulu',\n",
              " 128: 'oke',\n",
              " 129: 'merah',\n",
              " 130: 'lengket',\n",
              " 131: 'padahal',\n",
              " 132: 'jg',\n",
              " 133: 'milik',\n",
              " 134: 'sedikit',\n",
              " 135: 'kusam',\n",
              " 136: 'jerawat',\n",
              " 137: 'bawa',\n",
              " 138: 'packagingnya',\n",
              " 139: 'manis',\n",
              " 140: 'lembab',\n",
              " 141: 'oily',\n",
              " 142: 'mudah',\n",
              " 143: 'satu',\n",
              " 144: 'kok',\n",
              " 145: 'gula',\n",
              " 146: 'makin',\n",
              " 147: 'affordable',\n",
              " 148: 'it',\n",
              " 149: 'lucu',\n",
              " 150: 'up',\n",
              " 151: 'jangkau',\n",
              " 152: 'hehe',\n",
              " 153: 'pigmented',\n",
              " 154: 'habis',\n",
              " 155: 'tetep',\n",
              " 156: 'so',\n",
              " 157: 'sampe',\n",
              " 158: 'super',\n",
              " 159: 'awet',\n",
              " 160: 'lihat',\n",
              " 161: 'pecah',\n",
              " 162: 'nyoba',\n",
              " 163: 'biar',\n",
              " 164: 'temen',\n",
              " 165: 'lah',\n",
              " 166: 'mati',\n",
              " 167: 'beberapa',\n",
              " 168: 'apply',\n",
              " 169: 'pipi',\n",
              " 170: 'efek',\n",
              " 171: 'susah',\n",
              " 172: 'walaupun',\n",
              " 173: 'pernah',\n",
              " 174: 'sering',\n",
              " 175: 'dikit',\n",
              " 176: 'kantong',\n",
              " 177: 'asa',\n",
              " 178: 'cari',\n",
              " 179: 'apalagi',\n",
              " 180: 'lembut',\n",
              " 181: 'kenapa',\n",
              " 182: 'product',\n",
              " 183: 'ken',\n",
              " 184: 'i',\n",
              " 185: 'creamy',\n",
              " 186: 'remaja',\n",
              " 187: 'ilang',\n",
              " 188: 'tiap',\n",
              " 189: 'scrubnya',\n",
              " 190: 'kadang',\n",
              " 191: 'gelap',\n",
              " 192: 'sekarang',\n",
              " 193: 'pasti',\n",
              " 194: 'packaging',\n",
              " 195: 'aplikasi',\n",
              " 196: 'orang',\n",
              " 197: 'butir',\n",
              " 198: 'but',\n",
              " 199: 'orange',\n",
              " 200: 'tambah',\n",
              " 201: 'cerah',\n",
              " 202: 'pokok',\n",
              " 203: 'kalian',\n",
              " 204: 'parah',\n",
              " 205: 'kemas',\n",
              " 206: 'bruntusan',\n",
              " 207: 'selalu',\n",
              " 208: 'makeup',\n",
              " 209: 'sm',\n",
              " 210: 'to',\n",
              " 211: 'lokal',\n",
              " 212: 'semua',\n",
              " 213: 'peach',\n",
              " 214: 'cuman',\n",
              " 215: 'wkwk',\n",
              " 216: 'masuk',\n",
              " 217: 'anak',\n",
              " 218: 'nyaman',\n",
              " 219: 'overall',\n",
              " 220: 'ajar',\n",
              " 221: 'salah',\n",
              " 222: 'seger',\n",
              " 223: 'bagi',\n",
              " 224: 'bedak',\n",
              " 225: 'worth',\n",
              " 226: 'tahu',\n",
              " 227: 'blend',\n",
              " 228: 'pun',\n",
              " 229: 'resap',\n",
              " 230: 'spf',\n",
              " 231: 'kan',\n",
              " 232: 'lipbalm',\n",
              " 233: 'jam',\n",
              " 234: 'sedang',\n",
              " 235: 'isi',\n",
              " 236: 'this',\n",
              " 237: 'gatau',\n",
              " 238: 'fresh',\n",
              " 239: 'sebenernya',\n",
              " 240: 'daily',\n",
              " 241: 'sekolah',\n",
              " 242: 'yaa',\n",
              " 243: 'aroma',\n",
              " 244: 'halus',\n",
              " 245: 'panas',\n",
              " 246: 'pakenya',\n",
              " 247: 'matte',\n",
              " 248: 'sun',\n",
              " 249: 'formula',\n",
              " 250: 'saat',\n",
              " 251: 'kata',\n",
              " 252: 'masalah',\n",
              " 253: 'tipis',\n",
              " 254: 'kek',\n",
              " 255: 'ombre',\n",
              " 256: 'kita',\n",
              " 257: 'nyobain',\n",
              " 258: 'skin',\n",
              " 259: 'my',\n",
              " 260: 'review',\n",
              " 261: 'huhu',\n",
              " 262: 'selain',\n",
              " 263: 'engga',\n",
              " 264: 'emg',\n",
              " 265: 'akan',\n",
              " 266: 'sendiri',\n",
              " 267: 'jatuh',\n",
              " 268: 'kasar',\n",
              " 269: 'muncul',\n",
              " 270: 'angkat',\n",
              " 271: 'matahari',\n",
              " 272: 'ganggu',\n",
              " 273: 'dua',\n",
              " 274: 'aneh',\n",
              " 275: 'ss',\n",
              " 276: 'bagaimana',\n",
              " 277: 'memang',\n",
              " 278: 'baik',\n",
              " 279: 'dong',\n",
              " 280: 'bulan',\n",
              " 281: 'sel',\n",
              " 282: 'pada',\n",
              " 283: 'takut',\n",
              " 284: 'the',\n",
              " 285: 'ngerasa',\n",
              " 286: 'bangett',\n",
              " 287: 'aman',\n",
              " 288: 'imut',\n",
              " 289: 'besar',\n",
              " 290: 'whitecast',\n",
              " 291: 'lipcream',\n",
              " 292: 'putih',\n",
              " 293: 'hilang',\n",
              " 294: 'kena',\n",
              " 295: 'minggu',\n",
              " 296: 'entah',\n",
              " 297: 'meski',\n",
              " 298: 'sampai',\n",
              " 299: 'bukan',\n",
              " 300: 'bilang',\n",
              " 301: 'kualitas',\n",
              " 302: 'penasaran',\n",
              " 303: 'eh',\n",
              " 304: 'adalah',\n",
              " 305: 'gtu',\n",
              " 306: 'sesuai',\n",
              " 307: 'an',\n",
              " 308: 'berat',\n",
              " 309: 'sunglow',\n",
              " 310: 'kandung',\n",
              " 311: 'dalam',\n",
              " 312: 'powder',\n",
              " 313: 'tipe',\n",
              " 314: 'and',\n",
              " 315: 'rada',\n",
              " 316: 'cobain',\n",
              " 317: 'nempel',\n",
              " 318: 'kasih',\n",
              " 319: 'hati',\n",
              " 320: 'nge',\n",
              " 321: 'iseng',\n",
              " 322: 'kyk',\n",
              " 323: 'ukur',\n",
              " 324: 'rata',\n",
              " 325: 'balm',\n",
              " 326: 'jangan',\n",
              " 327: 'yes',\n",
              " 328: 'sensitif',\n",
              " 329: 'lipstik',\n",
              " 330: 'sakit',\n",
              " 331: 'cepat',\n",
              " 332: 'ngangkat',\n",
              " 333: 'air',\n",
              " 334: 'kayak',\n",
              " 335: 'tpi',\n",
              " 336: 'minum',\n",
              " 337: 'sinar',\n",
              " 338: 'jauh',\n",
              " 339: 'serap',\n",
              " 340: 'hitam',\n",
              " 341: 'pilih',\n",
              " 342: 'perih',\n",
              " 343: 'penting',\n",
              " 344: 'recommended',\n",
              " 345: 'mirip',\n",
              " 346: 'ungu',\n",
              " 347: 'tap',\n",
              " 348: 'atas',\n",
              " 349: 'gede',\n",
              " 350: 'lips',\n",
              " 351: 'makenya',\n",
              " 352: 'kl',\n",
              " 353: 'wardah',\n",
              " 354: 'favorit',\n",
              " 355: 'lipstick',\n",
              " 356: 'melembabkan',\n",
              " 357: 'diblend',\n",
              " 358: 'tinggal',\n",
              " 359: 'rumah',\n",
              " 360: 'sehat',\n",
              " 361: 'jdi',\n",
              " 362: 'gin',\n",
              " 363: 'gituu',\n",
              " 364: 'sekitar',\n",
              " 365: 'guna',\n",
              " 366: 'tu',\n",
              " 367: 'maybe',\n",
              " 368: 'skincare',\n",
              " 369: 'loh',\n",
              " 370: 'tangan',\n",
              " 371: 'a',\n",
              " 372: 'beda',\n",
              " 373: 'cakep',\n",
              " 374: 'ganti',\n",
              " 375: 'tube',\n",
              " 376: 'bentuk',\n",
              " 377: 'jarang',\n",
              " 378: 'brand',\n",
              " 379: 'tengah',\n",
              " 380: 'tutup',\n",
              " 381: 'watery',\n",
              " 382: 'breakout',\n",
              " 383: 'tarik',\n",
              " 384: 'belang',\n",
              " 385: 'doang',\n",
              " 386: 'diaplikasiin',\n",
              " 387: 'nyari',\n",
              " 388: 'beruntus',\n",
              " 389: 'luar',\n",
              " 390: 'gabikin',\n",
              " 391: 'oren',\n",
              " 392: 'bingung',\n",
              " 393: 'obat',\n",
              " 394: 'lipscrub',\n",
              " 395: 'banding',\n",
              " 396: 'beneran',\n",
              " 397: 'sma',\n",
              " 398: 'touch',\n",
              " 399: 'bangettt',\n",
              " 400: 'alkohol',\n",
              " 401: 'ok',\n",
              " 402: 'jari',\n",
              " 403: 'look',\n",
              " 404: 'ketika',\n",
              " 405: 'tanpa',\n",
              " 406: 'jujur',\n",
              " 407: 'far',\n",
              " 408: 'good',\n",
              " 409: 'perlu',\n",
              " 410: 'first',\n",
              " 411: 'cara',\n",
              " 412: 'is',\n",
              " 413: 'menor',\n",
              " 414: 'kira',\n",
              " 415: 'scarlet',\n",
              " 416: 'sempet',\n",
              " 417: 'gosok',\n",
              " 418: 'mulai',\n",
              " 419: 'tempat',\n",
              " 420: 'kusem',\n",
              " 421: 'segi',\n",
              " 422: 'mata',\n",
              " 423: 'for',\n",
              " 424: 't',\n",
              " 425: 'asli',\n",
              " 426: 'butuh',\n",
              " 427: 'nih',\n",
              " 428: 'pigmentasi',\n",
              " 429: 'haha',\n",
              " 430: 'tone',\n",
              " 431: 'lindung',\n",
              " 432: 'timpa',\n",
              " 433: 's',\n",
              " 434: 'nama',\n",
              " 435: 'dah',\n",
              " 436: 'white',\n",
              " 437: 'of',\n",
              " 438: 'pagi',\n",
              " 439: 'botol',\n",
              " 440: 'jilat',\n",
              " 441: 'gara',\n",
              " 442: 'bawah',\n",
              " 443: 'tetap',\n",
              " 444: 'pudar',\n",
              " 445: 'nah',\n",
              " 446: 'bahkan',\n",
              " 447: 'korea',\n",
              " 448: 'tahun',\n",
              " 449: 'rona',\n",
              " 450: 'wajib',\n",
              " 451: 'minus',\n",
              " 452: 'hampir',\n",
              " 453: 'stain',\n",
              " 454: 'mungil',\n",
              " 455: 'travel',\n",
              " 456: 'merk',\n",
              " 457: 'simple',\n",
              " 458: 'dapat',\n",
              " 459: 'in',\n",
              " 460: 'friendly',\n",
              " 461: 'protection',\n",
              " 462: 'aplikasiin',\n",
              " 463: 'krna',\n",
              " 464: 'mahal',\n",
              " 465: 'magic',\n",
              " 466: 'sukaa',\n",
              " 467: 'bagai',\n",
              " 468: 'males',\n",
              " 469: 'screen',\n",
              " 470: 'sugar',\n",
              " 471: 'base',\n",
              " 472: 'ninggalin',\n",
              " 473: 'bgtt',\n",
              " 474: 'not',\n",
              " 475: 'kesan',\n",
              " 476: 'cenderung',\n",
              " 477: 'siang',\n",
              " 478: 'kental',\n",
              " 479: 'gasuka',\n",
              " 480: 'set',\n",
              " 481: 'murce',\n",
              " 482: 'baguss',\n",
              " 483: 'nyerap',\n",
              " 484: 'gaada',\n",
              " 485: 'nyengat',\n",
              " 486: 'garis',\n",
              " 487: 'dgn',\n",
              " 488: 'soft',\n",
              " 489: 'lupa',\n",
              " 490: 'dapet',\n",
              " 491: 'daripada',\n",
              " 492: 'gel',\n",
              " 493: 'brick',\n",
              " 494: 'rutin',\n",
              " 495: 'racun',\n",
              " 496: 'hahaha',\n",
              " 497: 'bantu',\n",
              " 498: 'alami',\n",
              " 499: 'walau',\n",
              " 500: 'nyerep',\n",
              " 501: 'nyatu',\n",
              " 502: 'sawo',\n",
              " 503: 'gonjreng',\n",
              " 504: 'berapa',\n",
              " 505: 'greasy',\n",
              " 506: 'normal',\n",
              " 507: 'stop',\n",
              " 508: 'stay',\n",
              " 509: 'nude',\n",
              " 510: 'ttp',\n",
              " 511: 'plus',\n",
              " 512: 'mending',\n",
              " 513: 'dipakenya',\n",
              " 514: 'hehehe',\n",
              " 515: 'mahasiswa',\n",
              " 516: 'segitu',\n",
              " 517: 'sisa',\n",
              " 518: 'dipakein',\n",
              " 519: 'sihh',\n",
              " 520: 'oles',\n",
              " 521: 'sedih',\n",
              " 522: 'kamu',\n",
              " 523: 'potion',\n",
              " 524: 'bersih',\n",
              " 525: 'dry',\n",
              " 526: 'ngaruh',\n",
              " 527: 'best',\n",
              " 528: 'k',\n",
              " 529: 'spfnya',\n",
              " 530: 'ubah',\n",
              " 531: 'tebel',\n",
              " 532: 'coklat',\n",
              " 533: 'lalu',\n",
              " 534: 'cast',\n",
              " 535: 'lgsg',\n",
              " 536: 'fine',\n",
              " 537: 'luv',\n",
              " 538: 'cute',\n",
              " 539: 'kombinasi',\n",
              " 540: 'ngelupas',\n",
              " 541: 'jugaa',\n",
              " 542: 'poko',\n",
              " 543: 'harap',\n",
              " 544: 'dalem',\n",
              " 545: 'town',\n",
              " 546: 'kuliah',\n",
              " 547: 'item',\n",
              " 548: 'timbul',\n",
              " 549: 'nanti',\n",
              " 550: 'sengaja',\n",
              " 551: 'yah',\n",
              " 552: 'brown',\n",
              " 553: 'recommend',\n",
              " 554: 'pelan',\n",
              " 555: 'wkwkwk',\n",
              " 556: 'ngejreng',\n",
              " 557: 'out',\n",
              " 558: 'neng',\n",
              " 559: 'nemu',\n",
              " 560: 'pergi',\n",
              " 561: 'mini',\n",
              " 562: 'tinggi',\n",
              " 563: 'liptintnya',\n",
              " 564: 'varian',\n",
              " 565: 'transfer',\n",
              " 566: 'bilas',\n",
              " 567: 'lebay',\n",
              " 568: 'praktis',\n",
              " 569: 'sukak',\n",
              " 570: 'menit',\n",
              " 571: 'light',\n",
              " 572: 'ragu',\n",
              " 573: 'glowing',\n",
              " 574: 'foundation',\n",
              " 575: 'try',\n",
              " 576: 'pikir',\n",
              " 577: 'akuu',\n",
              " 578: 'mula',\n",
              " 579: 'pdhl',\n",
              " 580: 'utama',\n",
              " 581: 'hanya',\n",
              " 582: 'balik',\n",
              " 583: 'ala',\n",
              " 584: 'matang',\n",
              " 585: 'supaya',\n",
              " 586: 'powdery',\n",
              " 587: 'luntur',\n",
              " 588: 'pucet',\n",
              " 589: 'dingin',\n",
              " 590: 'vanilla',\n",
              " 591: 'geser',\n",
              " 592: 'krim',\n",
              " 593: 'gemes',\n",
              " 594: 'teman',\n",
              " 595: 'asal',\n",
              " 596: 'aktivitas',\n",
              " 597: 'area',\n",
              " 598: 'sukaaa',\n",
              " 599: 'btw',\n",
              " 600: 'hint',\n",
              " 601: 'abu',\n",
              " 602: 'kelupas',\n",
              " 603: 'ngasih',\n",
              " 604: 'betul',\n",
              " 605: 'saking',\n",
              " 606: 'like',\n",
              " 607: 'bkin',\n",
              " 608: 'candy',\n",
              " 609: 'favorite',\n",
              " 610: 'cheeklit',\n",
              " 611: 'ruang',\n",
              " 612: 'iya',\n",
              " 613: 'andal',\n",
              " 614: 'se',\n",
              " 615: 'nampol',\n",
              " 616: 'keringetan',\n",
              " 617: 'jenis',\n",
              " 618: 'me',\n",
              " 619: 'makanya',\n",
              " 620: 'skintone',\n",
              " 621: 'ramah',\n",
              " 622: 'kuning',\n",
              " 623: 'full',\n",
              " 624: 'kilang',\n",
              " 625: 'untung',\n",
              " 626: 'nimbulin',\n",
              " 627: 'umum',\n",
              " 628: 'sumpah',\n",
              " 629: 'sensasi',\n",
              " 630: 'kerja',\n",
              " 631: 'sengat',\n",
              " 632: 'must',\n",
              " 633: 'pakek',\n",
              " 634: 'water',\n",
              " 635: 'b',\n",
              " 636: 'jeruk',\n",
              " 637: 'ribet',\n",
              " 638: 'temenku',\n",
              " 639: 'diskon',\n",
              " 640: 'guardian',\n",
              " 641: 'have',\n",
              " 642: 'para',\n",
              " 643: 'rekomen',\n",
              " 644: 'terang',\n",
              " 645: 'aga',\n",
              " 646: 'hihi',\n",
              " 647: 'blushnya',\n",
              " 648: 'cotton',\n",
              " 649: 'reapply',\n",
              " 650: 'boleh',\n",
              " 651: 'diratain',\n",
              " 652: 're',\n",
              " 653: 'its',\n",
              " 654: 'mesti',\n",
              " 655: 'tentu',\n",
              " 656: 'acne',\n",
              " 657: 'buah',\n",
              " 658: 'suncreen',\n",
              " 659: 'nudie',\n",
              " 660: 'saran',\n",
              " 661: 'layer',\n",
              " 662: 'moist',\n",
              " 663: 'nutup',\n",
              " 664: 'ambil',\n",
              " 665: 'beauty',\n",
              " 666: 'hidung',\n",
              " 667: 'pori',\n",
              " 668: 'pelembab',\n",
              " 669: 'nyesel',\n",
              " 670: 'rekomendasi',\n",
              " 671: 'acara',\n",
              " 672: 'ngescrub',\n",
              " 673: 'batuk',\n",
              " 674: 'diapply',\n",
              " 675: 'medium',\n",
              " 676: 'kecewa',\n",
              " 677: 'pinggir',\n",
              " 678: 'temu',\n",
              " 679: 'madu',\n",
              " 680: 'rush',\n",
              " 681: 'ngerti',\n",
              " 682: 'ngeset',\n",
              " 683: 'riah',\n",
              " 684: 'build',\n",
              " 685: 'jalan',\n",
              " 686: 'thick',\n",
              " 687: 'juara',\n",
              " 688: 'ni',\n",
              " 689: 'kaget',\n",
              " 690: 'ingin',\n",
              " 691: 'bekas',\n",
              " 692: 'buy',\n",
              " 693: 'one',\n",
              " 694: 'use',\n",
              " 695: 'gabisa',\n",
              " 696: 'seluruh',\n",
              " 697: 'pula',\n",
              " 698: 'amat',\n",
              " 699: 'besok',\n",
              " 700: 'brush',\n",
              " 701: 'cm',\n",
              " 702: 'murmer',\n",
              " 703: 'alhamdulillah',\n",
              " 704: 'lembap',\n",
              " 705: 'antara',\n",
              " 706: 'rajin',\n",
              " 707: 'smitten',\n",
              " 708: 'foundie',\n",
              " 709: 'jelas',\n",
              " 710: 'segar',\n",
              " 711: 'baca',\n",
              " 712: 'moga',\n",
              " 713: 'aplikatornya',\n",
              " 714: 'shadenya',\n",
              " 715: 'sorry',\n",
              " 716: 'kampus',\n",
              " 717: 'norak',\n",
              " 718: 'you',\n",
              " 719: 'guys',\n",
              " 720: 'ngelembabin',\n",
              " 721: 'finishnya',\n",
              " 722: 'really',\n",
              " 723: 'buka',\n",
              " 724: 'bagusss',\n",
              " 725: 'gacocok',\n",
              " 726: 'tiga',\n",
              " 727: 'tampil',\n",
              " 728: 'wudhu',\n",
              " 729: 'bgttt',\n",
              " 730: 'samsek',\n",
              " 731: 'sunscreennya',\n",
              " 732: 'bb',\n",
              " 733: 'long',\n",
              " 734: 'all',\n",
              " 735: 'bangetttt',\n",
              " 736: 'bahan',\n",
              " 737: 'hapus',\n",
              " 738: 'gapernah',\n",
              " 739: 'rb',\n",
              " 740: 'jelek',\n",
              " 741: 'oil',\n",
              " 742: 'yaaa',\n",
              " 743: 'saranin',\n",
              " 744: 'namun',\n",
              " 745: 'bo',\n",
              " 746: 'pouch',\n",
              " 747: 'drugstore',\n",
              " 748: 'or',\n",
              " 749: 'campur',\n",
              " 750: 'ribu',\n",
              " 751: 'mikir',\n",
              " 752: 'buru',\n",
              " 753: 'ajaa',\n",
              " 754: 'sadar',\n",
              " 755: 'gatel',\n",
              " 756: 'ama',\n",
              " 757: 'transferproof',\n",
              " 758: 'sirup',\n",
              " 759: 'ampuh',\n",
              " 760: 'dlu',\n",
              " 761: 'tadi',\n",
              " 762: 'strong',\n",
              " 763: 'sii',\n",
              " 764: 'duper',\n",
              " 765: 'jga',\n",
              " 766: 'papar',\n",
              " 767: 'swatch',\n",
              " 768: 'tas',\n",
              " 769: 'ngefek',\n",
              " 770: 'medok',\n",
              " 771: 'moisturizer',\n",
              " 772: 'prefer',\n",
              " 773: 'jual',\n",
              " 774: 'pribadi',\n",
              " 775: 'time',\n",
              " 776: 'ikut',\n",
              " 777: 'colok',\n",
              " 778: 'lanjut',\n",
              " 779: 'much',\n",
              " 780: 'malem',\n",
              " 781: 'fungsi',\n",
              " 782: 'oh',\n",
              " 783: 'kudu',\n",
              " 784: 'over',\n",
              " 785: 'ditemuin',\n",
              " 786: 'permen',\n",
              " 787: 'dasar',\n",
              " 788: 'ringkih',\n",
              " 789: 'ngeluarin',\n",
              " 790: 'ko',\n",
              " 791: 'gumpal',\n",
              " 792: 'dijadiin',\n",
              " 793: 'tua',\n",
              " 794: 'kenal',\n",
              " 795: 'macam',\n",
              " 796: 'zona',\n",
              " 797: 'misal',\n",
              " 798: 'gituuu',\n",
              " 799: 'ngebuat',\n",
              " 800: 'local',\n",
              " 801: 'sunblock',\n",
              " 802: 'jatohnya',\n",
              " 803: 'gamau',\n",
              " 804: 'sore',\n",
              " 805: 'recomended',\n",
              " 806: 'kemudian',\n",
              " 807: 'soal',\n",
              " 808: 'mah',\n",
              " 809: 'alus',\n",
              " 810: 'henti',\n",
              " 811: 'aqua',\n",
              " 812: 'patchy',\n",
              " 813: 'kalem',\n",
              " 814: 'wkwkw',\n",
              " 815: 'finish',\n",
              " 816: 'tunggu',\n",
              " 817: 'encer',\n",
              " 818: 'tidur',\n",
              " 819: 'hmm',\n",
              " 820: 'ngeblend',\n",
              " 821: 'baur',\n",
              " 822: 'fav',\n",
              " 823: 'outdoor',\n",
              " 824: 'cucok',\n",
              " 825: 'ngestain',\n",
              " 826: 'kondisi',\n",
              " 827: 'mask',\n",
              " 828: 'warm',\n",
              " 829: 'tanya',\n",
              " 830: 'khas',\n",
              " 831: 'putus',\n",
              " 832: 'gantung',\n",
              " 833: 'nutupin',\n",
              " 834: 'ngelembapin',\n",
              " 835: 'lotion',\n",
              " 836: 'too',\n",
              " 837: 'ato',\n",
              " 838: 'pakein',\n",
              " 839: 'with',\n",
              " 840: 'justru',\n",
              " 841: 'wow',\n",
              " 842: 'texturenya',\n",
              " 843: 'enteng',\n",
              " 844: 'gila',\n",
              " 845: 'darah',\n",
              " 846: 'alias',\n",
              " 847: 'maka',\n",
              " 848: 'course',\n",
              " 849: 'pingin',\n",
              " 850: 'sahabat',\n",
              " 851: 'semenjak',\n",
              " 852: 'nyerepnya',\n",
              " 853: 'sejak',\n",
              " 854: 'hemat',\n",
              " 855: 'iritasi',\n",
              " 856: 'bersihin',\n",
              " 857: 'pucat',\n",
              " 858: 'buildable',\n",
              " 859: 'huhuhu',\n",
              " 860: 'ky',\n",
              " 861: 'tau',\n",
              " 862: 'oranye',\n",
              " 863: 'komedoan',\n",
              " 864: 'well',\n",
              " 865: 'liquid',\n",
              " 866: 'kakak',\n",
              " 867: 'prone',\n",
              " 868: 'tabur',\n",
              " 869: 'beri',\n",
              " 870: 'unyu',\n",
              " 871: 'gua',\n",
              " 872: 'better',\n",
              " 873: 'ketemu',\n",
              " 874: 'vanila',\n",
              " 875: 'eksfoliasi',\n",
              " 876: 'ethanol',\n",
              " 877: 'nunggu',\n",
              " 878: 'that',\n",
              " 879: 'ilangnya',\n",
              " 880: 'ulang',\n",
              " 881: 'ofc',\n",
              " 882: 'dll',\n",
              " 883: 'shopee',\n",
              " 884: 'ingredients',\n",
              " 885: 'biore',\n",
              " 886: 'alhasil',\n",
              " 887: 'kalah',\n",
              " 888: 'pinknya',\n",
              " 889: 'next',\n",
              " 890: 'work',\n",
              " 891: 'okay',\n",
              " 892: 'big',\n",
              " 893: 'bold',\n",
              " 894: 'ter',\n",
              " 895: 'after',\n",
              " 896: 'tiba',\n",
              " 897: 'reaksi',\n",
              " 898: 'punya',\n",
              " 899: 'gosong',\n",
              " 900: 'maaf',\n",
              " 901: 'main',\n",
              " 902: 'lap',\n",
              " 903: 'undertone',\n",
              " 904: 'very',\n",
              " 905: 'nyerapnya',\n",
              " 906: 'longlasting',\n",
              " 907: 'bareng',\n",
              " 908: 'umat',\n",
              " 909: 'price',\n",
              " 910: 'daerah',\n",
              " 911: 'negatif',\n",
              " 912: 'type',\n",
              " 913: 'sekian',\n",
              " 914: 'jar',\n",
              " 915: 'tony',\n",
              " 916: 'fragrance',\n",
              " 917: 'luka',\n",
              " 918: 'tricky',\n",
              " 919: 'macem',\n",
              " 920: 'panjang',\n",
              " 921: 'lasting',\n",
              " 922: 'cuci',\n",
              " 923: 'sheer',\n",
              " 924: 'milih',\n",
              " 925: 'emng',\n",
              " 926: 'jadiin',\n",
              " 927: 'red',\n",
              " 928: 'giat',\n",
              " 929: 'yaudah',\n",
              " 930: 'kirain',\n",
              " 931: 'kliatan',\n",
              " 932: 'dandan',\n",
              " 933: 'cmn',\n",
              " 934: 'think',\n",
              " 935: 'juta',\n",
              " 936: 'dehh',\n",
              " 937: 'store',\n",
              " 938: 'sensitive',\n",
              " 939: 'moly',\n",
              " 940: 'ngecover',\n",
              " 941: 'uv',\n",
              " 942: 'cpt',\n",
              " 943: 'sukaaaa',\n",
              " 944: 'masa',\n",
              " 945: 'ngebantu',\n",
              " 946: 'bad',\n",
              " 947: 'sold',\n",
              " 948: 'harum',\n",
              " 949: 'gigi',\n",
              " 950: 'rekomendasiin',\n",
              " 951: 'tebal',\n",
              " 952: 'pgn',\n",
              " 953: 'buang',\n",
              " 954: 'hal',\n",
              " 955: 'adem',\n",
              " 956: 'scarlett',\n",
              " 957: 'zaman',\n",
              " 958: 'pressed',\n",
              " 959: 'mayan',\n",
              " 960: 'muda',\n",
              " 961: 'purchase',\n",
              " 962: 'online',\n",
              " 963: 'selamat',\n",
              " 964: 'berry',\n",
              " 965: 'tintnya',\n",
              " 966: 'diy',\n",
              " 967: 'komedo',\n",
              " 968: 'kentel',\n",
              " 969: 'which',\n",
              " 970: 'bnget',\n",
              " 971: 'inti',\n",
              " 972: 'diombre',\n",
              " 973: 'ngelindungin',\n",
              " 974: 'texture',\n",
              " 975: 'sehingga',\n",
              " 976: 'creamnya',\n",
              " 977: 'blushon',\n",
              " 978: 'ujung',\n",
              " 979: 'terima',\n",
              " 980: 'bangeeet',\n",
              " 981: 'daya',\n",
              " 982: 'top',\n",
              " 983: 'malam',\n",
              " 984: 'still',\n",
              " 985: 'drpd',\n",
              " 986: 'efektif',\n",
              " 987: 'mulut',\n",
              " 988: 'm',\n",
              " 989: 'kecuali',\n",
              " 990: 'stlh',\n",
              " 991: 'sebentar',\n",
              " 992: 'keren',\n",
              " 993: 'kuat',\n",
              " 994: 'boros',\n",
              " 995: 'stainnya',\n",
              " 996: 'ituu',\n",
              " 997: 'face',\n",
              " 998: 'warnanyaa',\n",
              " 999: 'kasi',\n",
              " 1000: 'jaga',\n",
              " ...}"
            ]
          },
          "metadata": {
            "tags": []
          },
          "execution_count": 11
        }
      ]
    },
    {
      "cell_type": "code",
      "metadata": {
        "colab": {
          "base_uri": "https://localhost:8080/"
        },
        "id": "J-J4IheEF6QE",
        "outputId": "a1953629-1eff-4ca1-c660-74a6556479f2"
      },
      "source": [
        "vocab = len(token.index_word)+1\n",
        "vocab"
      ],
      "execution_count": null,
      "outputs": [
        {
          "output_type": "execute_result",
          "data": {
            "text/plain": [
              "13446"
            ]
          },
          "metadata": {
            "tags": []
          },
          "execution_count": 12
        }
      ]
    },
    {
      "cell_type": "code",
      "metadata": {
        "colab": {
          "base_uri": "https://localhost:8080/"
        },
        "id": "OiqeOp41F6S2",
        "outputId": "8fcc87b4-e11e-4d16-d39d-4b8a8e2c7f89"
      },
      "source": [
        "x = ['bagus banget']\n",
        "token.texts_to_sequences(x)"
      ],
      "execution_count": null,
      "outputs": [
        {
          "output_type": "execute_result",
          "data": {
            "text/plain": [
              "[[26, 9]]"
            ]
          },
          "metadata": {
            "tags": []
          },
          "execution_count": 13
        }
      ]
    },
    {
      "cell_type": "code",
      "metadata": {
        "id": "fQAr1kypF6VW"
      },
      "source": [
        "encode_text = token.texts_to_sequences(text)"
      ],
      "execution_count": null,
      "outputs": []
    },
    {
      "cell_type": "code",
      "metadata": {
        "colab": {
          "base_uri": "https://localhost:8080/"
        },
        "id": "DTKxglA9F6YI",
        "outputId": "1c6883b4-7b46-405f-c554-1067de172973"
      },
      "source": [
        "max_kata=100\n",
        "X = pad_sequences(encode_text, maxlen=max_kata, padding=\"post\")\n",
        "X"
      ],
      "execution_count": null,
      "outputs": [
        {
          "output_type": "execute_result",
          "data": {
            "text/plain": [
              "array([[    3,   107,    26, ...,     0,     0,     0],\n",
              "       [  864,    53,    23, ...,     0,     0,     0],\n",
              "       [   30,     3,    27, ...,     0,     0,     0],\n",
              "       ...,\n",
              "       [  251, 13442,  2287, ...,     0,     0,     0],\n",
              "       [  119,     9,     9, ...,     0,     0,     0],\n",
              "       [  425,   551,     3, ...,     0,     0,     0]], dtype=int32)"
            ]
          },
          "metadata": {
            "tags": []
          },
          "execution_count": 15
        }
      ]
    },
    {
      "cell_type": "code",
      "metadata": {
        "colab": {
          "base_uri": "https://localhost:8080/"
        },
        "id": "0uDoLOiqF6a2",
        "outputId": "70ac007c-2537-44bb-8213-88ffe6acdbad"
      },
      "source": [
        "embeding_vector_length = 300\n",
        "embeding_vector_length=word2vec.wv.syn0.shape[1]\n",
        "embeding_matrix=np.zeros((vocab,embeding_vector_length))"
      ],
      "execution_count": null,
      "outputs": [
        {
          "output_type": "stream",
          "text": [
            "/usr/local/lib/python3.6/dist-packages/ipykernel_launcher.py:3: DeprecationWarning: Call to deprecated `syn0` (Attribute will be removed in 4.0.0, use self.vectors instead).\n",
            "  This is separate from the ipykernel package so we can avoid doing imports until\n"
          ],
          "name": "stderr"
        }
      ]
    },
    {
      "cell_type": "code",
      "metadata": {
        "id": "vur25JfKF6da"
      },
      "source": [
        "#build embedding index\n",
        "for word,i in sorted(token.word_index.items(),key=lambda x:x[1]):\n",
        "    if i>vocab:\n",
        "        break\n",
        "    if word in word2vec.wv.vocab:\n",
        "        embeding_vector=word2vec.wv[word]\n",
        "        embeding_matrix[i]=embeding_vector"
      ],
      "execution_count": null,
      "outputs": []
    },
    {
      "cell_type": "code",
      "metadata": {
        "colab": {
          "base_uri": "https://localhost:8080/"
        },
        "id": "x_MzApqlLOom",
        "outputId": "f5cfc97c-8eca-4164-c01e-4f086d463a88"
      },
      "source": [
        "# Just to have a glance at the vector for our words \n",
        "embeding_matrix"
      ],
      "execution_count": null,
      "outputs": [
        {
          "output_type": "execute_result",
          "data": {
            "text/plain": [
              "array([[ 0.        ,  0.        ,  0.        , ...,  0.        ,\n",
              "         0.        ,  0.        ],\n",
              "       [ 0.        ,  0.        ,  0.        , ...,  0.        ,\n",
              "         0.        ,  0.        ],\n",
              "       [ 0.87361014,  2.59380031, -1.86611855, ..., -0.60246372,\n",
              "         0.52344346,  0.76725423],\n",
              "       ...,\n",
              "       [ 0.        ,  0.        ,  0.        , ...,  0.        ,\n",
              "         0.        ,  0.        ],\n",
              "       [ 0.        ,  0.        ,  0.        , ...,  0.        ,\n",
              "         0.        ,  0.        ],\n",
              "       [ 0.48136151, -0.20923139,  0.93265611, ..., -0.56763309,\n",
              "        -0.54428643,  1.35350811]])"
            ]
          },
          "metadata": {
            "tags": []
          },
          "execution_count": 18
        }
      ]
    },
    {
      "cell_type": "code",
      "metadata": {
        "id": "MVNQqcmqLO0X"
      },
      "source": [
        "X_train, X_test, y_train, y_test = train_test_split(X,y,random_state=42, test_size= 0.25)"
      ],
      "execution_count": null,
      "outputs": []
    },
    {
      "cell_type": "code",
      "metadata": {
        "id": "1rMC7QutLO4w"
      },
      "source": [
        "X_train=np.asarray(X_train)\n",
        "X_test=np.asarray(X_test)\n",
        "y_train=np.asarray(y_train)\n",
        "y_test=np.asarray(y_test)"
      ],
      "execution_count": null,
      "outputs": []
    },
    {
      "cell_type": "code",
      "metadata": {
        "id": "B-EoWfW0LO9r"
      },
      "source": [
        "vec_size =300\n",
        "opt = SGD(lr=0.008)\n",
        "model = Sequential()\n",
        "model.add(Embedding(vocab, embeding_vector_length, weights=[embeding_matrix], input_length=max_kata, trainable=False))\n",
        "\n",
        "model.add(Conv1D(128,3, strides=1,padding=\"valid\"))\n",
        "model.add(MaxPooling1D())\n",
        "\n",
        "model.add(Dropout(0.5))\n",
        "\n",
        "model.add(Dense(64, activation=\"relu\"))\n",
        "model.add(Dense(32, activation=\"relu\"))\n",
        "\n",
        "model.add(Dropout(0.2))\n",
        "model.add(Dense(16, activation=\"relu\"))\n",
        "\n",
        "\n",
        "model.add(GlobalMaxPooling1D())\n",
        "model.add(Dense(3, activation=\"softmax\"))\n",
        "model.summary()\n"
      ],
      "execution_count": null,
      "outputs": []
    },
    {
      "cell_type": "code",
      "metadata": {
        "id": "ka17UoPtF6f9"
      },
      "source": [
        "model.compile(loss=\"categorical_crossentropy\", metrics=[\"accuracy\"], optimizer=opt)"
      ],
      "execution_count": null,
      "outputs": []
    },
    {
      "cell_type": "code",
      "metadata": {
        "id": "2SYs14PxMGnQ"
      },
      "source": [
        "history = model.fit(X_train, y_train, epochs=130, validation_data=(X_test, y_test), batch_size=20)"
      ],
      "execution_count": null,
      "outputs": []
    },
    {
      "cell_type": "code",
      "metadata": {
        "id": "bTxVat9qMGwn"
      },
      "source": [
        "print(history.history['loss'])\n",
        "print(history.history['accuracy'])\n",
        "print(history.history['val_loss'])\n",
        "print(history.history['val_accuracy'])"
      ],
      "execution_count": null,
      "outputs": []
    },
    {
      "cell_type": "code",
      "metadata": {
        "id": "jZw3-Co4ffQX"
      },
      "source": [
        "from matplotlib import pyplot"
      ],
      "execution_count": null,
      "outputs": []
    },
    {
      "cell_type": "code",
      "metadata": {
        "id": "iltOYFJjfaHx"
      },
      "source": [
        "pyplot.plot(history.history['accuracy'])\n",
        "pyplot.plot(history.history['val_accuracy'])\n",
        "pyplot.title('model train vs validation accuracy')\n",
        "pyplot.ylabel('accuracy')\n",
        "pyplot.xlabel('epoch')\n",
        "pyplot.legend(['train', 'validation'], loc='upper right')\n",
        "pyplot.show()"
      ],
      "execution_count": null,
      "outputs": []
    },
    {
      "cell_type": "code",
      "metadata": {
        "id": "9PJDqXssMGzr"
      },
      "source": [
        "from sklearn import metrics\n",
        "from sklearn.model_selection import train_test_split\n",
        "X_test2=np.array(X_test)\n",
        "y_test2=np.array(y_test)\n",
        "y_pred=model.predict(X_test2)\n",
        "hasilPredict = (y_pred >= 0.5).astype(int)\n",
        "from sklearn.metrics import classification_report\n",
        "print(classification_report(y_test2,hasilPredict))"
      ],
      "execution_count": null,
      "outputs": []
    },
    {
      "cell_type": "code",
      "metadata": {
        "id": "JvRJUWqBJfBt"
      },
      "source": [
        ""
      ],
      "execution_count": null,
      "outputs": []
    },
    {
      "cell_type": "code",
      "metadata": {
        "id": "Xij39F87MG3y"
      },
      "source": [
        ""
      ],
      "execution_count": null,
      "outputs": []
    },
    {
      "cell_type": "code",
      "metadata": {
        "id": "_zvQK8CpMG8G"
      },
      "source": [
        ""
      ],
      "execution_count": null,
      "outputs": []
    },
    {
      "cell_type": "code",
      "metadata": {
        "id": "A9GkTeNYMG-6"
      },
      "source": [
        ""
      ],
      "execution_count": null,
      "outputs": []
    },
    {
      "cell_type": "code",
      "metadata": {
        "id": "SvjukHiiMHBF"
      },
      "source": [
        ""
      ],
      "execution_count": null,
      "outputs": []
    },
    {
      "cell_type": "code",
      "metadata": {
        "id": "eqLvPqfgMHDM"
      },
      "source": [
        ""
      ],
      "execution_count": null,
      "outputs": []
    },
    {
      "cell_type": "code",
      "metadata": {
        "id": "aH1gY-qoMHGX"
      },
      "source": [
        ""
      ],
      "execution_count": null,
      "outputs": []
    },
    {
      "cell_type": "code",
      "metadata": {
        "id": "oAoQsxmIMHJK"
      },
      "source": [
        ""
      ],
      "execution_count": null,
      "outputs": []
    }
  ]
}