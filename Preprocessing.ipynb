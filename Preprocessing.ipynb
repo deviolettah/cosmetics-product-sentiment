{
  "nbformat": 4,
  "nbformat_minor": 0,
  "metadata": {
    "colab": {
      "name": "Preprocessing.ipynb",
      "provenance": [],
      "collapsed_sections": []
    },
    "kernelspec": {
      "name": "python3",
      "display_name": "Python 3"
    }
  },
  "cells": [
    {
      "cell_type": "code",
      "metadata": {
        "colab": {
          "base_uri": "https://localhost:8080/"
        },
        "id": "hztJKOGYsP8I",
        "outputId": "73ac886e-ed7d-4908-ff81-0613e2932a81"
      },
      "source": [
        "!pip install Sastrawi"
      ],
      "execution_count": null,
      "outputs": [
        {
          "output_type": "stream",
          "text": [
            "Collecting Sastrawi\n",
            "\u001b[?25l  Downloading https://files.pythonhosted.org/packages/6f/4b/bab676953da3103003730b8fcdfadbdd20f333d4add10af949dd5c51e6ed/Sastrawi-1.0.1-py2.py3-none-any.whl (209kB)\n",
            "\r\u001b[K     |█▋                              | 10kB 15.9MB/s eta 0:00:01\r\u001b[K     |███▏                            | 20kB 21.6MB/s eta 0:00:01\r\u001b[K     |████▊                           | 30kB 13.0MB/s eta 0:00:01\r\u001b[K     |██████▎                         | 40kB 9.9MB/s eta 0:00:01\r\u001b[K     |███████▉                        | 51kB 5.6MB/s eta 0:00:01\r\u001b[K     |█████████▍                      | 61kB 5.9MB/s eta 0:00:01\r\u001b[K     |███████████                     | 71kB 6.2MB/s eta 0:00:01\r\u001b[K     |████████████▌                   | 81kB 6.6MB/s eta 0:00:01\r\u001b[K     |██████████████                  | 92kB 6.9MB/s eta 0:00:01\r\u001b[K     |███████████████▋                | 102kB 7.2MB/s eta 0:00:01\r\u001b[K     |█████████████████▏              | 112kB 7.2MB/s eta 0:00:01\r\u001b[K     |██████████████████▊             | 122kB 7.2MB/s eta 0:00:01\r\u001b[K     |████████████████████▎           | 133kB 7.2MB/s eta 0:00:01\r\u001b[K     |█████████████████████▉          | 143kB 7.2MB/s eta 0:00:01\r\u001b[K     |███████████████████████▍        | 153kB 7.2MB/s eta 0:00:01\r\u001b[K     |█████████████████████████       | 163kB 7.2MB/s eta 0:00:01\r\u001b[K     |██████████████████████████▋     | 174kB 7.2MB/s eta 0:00:01\r\u001b[K     |████████████████████████████▏   | 184kB 7.2MB/s eta 0:00:01\r\u001b[K     |█████████████████████████████▊  | 194kB 7.2MB/s eta 0:00:01\r\u001b[K     |███████████████████████████████▎| 204kB 7.2MB/s eta 0:00:01\r\u001b[K     |████████████████████████████████| 215kB 7.2MB/s \n",
            "\u001b[?25hInstalling collected packages: Sastrawi\n",
            "Successfully installed Sastrawi-1.0.1\n"
          ],
          "name": "stdout"
        }
      ]
    },
    {
      "cell_type": "code",
      "metadata": {
        "colab": {
          "base_uri": "https://localhost:8080/"
        },
        "id": "Z9iMZ6mGm5Yg",
        "outputId": "daee906f-b355-4f2c-e5ee-9bb371d905d5"
      },
      "source": [
        "!!pip install googletrans==3.1.0a0"
      ],
      "execution_count": null,
      "outputs": [
        {
          "output_type": "execute_result",
          "data": {
            "text/plain": [
              "['Collecting googletrans==3.1.0a0',\n",
              " '  Downloading https://files.pythonhosted.org/packages/19/3d/4e3a1609bf52f2f7b00436cc751eb977e27040665dde2bd57e7152989672/googletrans-3.1.0a0.tar.gz',\n",
              " 'Collecting httpx==0.13.3',\n",
              " '\\x1b[?25l  Downloading https://files.pythonhosted.org/packages/54/b4/698b284c6aed4d7c2b4fe3ba5df1fcf6093612423797e76fbb24890dd22f/httpx-0.13.3-py3-none-any.whl (55kB)',\n",
              " '',\n",
              " '\\x1b[K     |██████                          | 10kB 16.7MB/s eta 0:00:01',\n",
              " '\\x1b[K     |████████████                    | 20kB 21.7MB/s eta 0:00:01',\n",
              " '\\x1b[K     |█████████████████▉              | 30kB 14.4MB/s eta 0:00:01',\n",
              " '\\x1b[K     |███████████████████████▉        | 40kB 10.1MB/s eta 0:00:01',\n",
              " '\\x1b[K     |█████████████████████████████▊  | 51kB 5.4MB/s eta 0:00:01',\n",
              " '\\x1b[K     |████████████████████████████████| 61kB 3.4MB/s ',\n",
              " '\\x1b[?25hCollecting httpcore==0.9.*',\n",
              " '\\x1b[?25l  Downloading https://files.pythonhosted.org/packages/dd/d5/e4ff9318693ac6101a2095e580908b591838c6f33df8d3ee8dd953ba96a8/httpcore-0.9.1-py3-none-any.whl (42kB)',\n",
              " '',\n",
              " '\\x1b[K     |███████▊                        | 10kB 18.6MB/s eta 0:00:01',\n",
              " '\\x1b[K     |███████████████▍                | 20kB 26.4MB/s eta 0:00:01',\n",
              " '\\x1b[K     |███████████████████████         | 30kB 30.6MB/s eta 0:00:01',\n",
              " '\\x1b[K     |██████████████████████████████▊ | 40kB 33.2MB/s eta 0:00:01',\n",
              " '\\x1b[K     |████████████████████████████████| 51kB 6.5MB/s ',\n",
              " '\\x1b[?25hCollecting sniffio',\n",
              " '  Downloading https://files.pythonhosted.org/packages/52/b0/7b2e028b63d092804b6794595871f936aafa5e9322dcaaad50ebf67445b3/sniffio-1.2.0-py3-none-any.whl',\n",
              " 'Requirement already satisfied: certifi in /usr/local/lib/python3.6/dist-packages (from httpx==0.13.3->googletrans==3.1.0a0) (2020.12.5)',\n",
              " 'Collecting rfc3986<2,>=1.3',\n",
              " '  Downloading https://files.pythonhosted.org/packages/78/be/7b8b99fd74ff5684225f50dd0e865393d2265656ef3b4ba9eaaaffe622b8/rfc3986-1.4.0-py2.py3-none-any.whl',\n",
              " 'Collecting hstspreload',\n",
              " '\\x1b[?25l  Downloading https://files.pythonhosted.org/packages/dd/50/606213e12fb49c5eb667df0936223dcaf461f94e215ea60244b2b1e9b039/hstspreload-2020.12.22-py3-none-any.whl (994kB)',\n",
              " '',\n",
              " '\\x1b[K     |▎                               | 10kB 16.8MB/s eta 0:00:01',\n",
              " '\\x1b[K     |▋                               | 20kB 24.1MB/s eta 0:00:01',\n",
              " '\\x1b[K     |█                               | 30kB 29.2MB/s eta 0:00:01',\n",
              " '\\x1b[K     |█▎                              | 40kB 32.6MB/s eta 0:00:01',\n",
              " '\\x1b[K     |█▋                              | 51kB 34.2MB/s eta 0:00:01',\n",
              " '\\x1b[K     |██                              | 61kB 36.9MB/s eta 0:00:01',\n",
              " '\\x1b[K     |██▎                             | 71kB 37.9MB/s eta 0:00:01',\n",
              " '\\x1b[K     |██▋                             | 81kB 32.9MB/s eta 0:00:01',\n",
              " '\\x1b[K     |███                             | 92kB 27.0MB/s eta 0:00:01',\n",
              " '\\x1b[K     |███▎                            | 102kB 28.4MB/s eta 0:00:01',\n",
              " '\\x1b[K     |███▋                            | 112kB 28.4MB/s eta 0:00:01',\n",
              " '\\x1b[K     |████                            | 122kB 28.4MB/s eta 0:00:01',\n",
              " '\\x1b[K     |████▎                           | 133kB 28.4MB/s eta 0:00:01',\n",
              " '\\x1b[K     |████▋                           | 143kB 28.4MB/s eta 0:00:01',\n",
              " '\\x1b[K     |█████                           | 153kB 28.4MB/s eta 0:00:01',\n",
              " '\\x1b[K     |█████▎                          | 163kB 28.4MB/s eta 0:00:01',\n",
              " '\\x1b[K     |█████▋                          | 174kB 28.4MB/s eta 0:00:01',\n",
              " '\\x1b[K     |██████                          | 184kB 28.4MB/s eta 0:00:01',\n",
              " '\\x1b[K     |██████▎                         | 194kB 28.4MB/s eta 0:00:01',\n",
              " '\\x1b[K     |██████▋                         | 204kB 28.4MB/s eta 0:00:01',\n",
              " '\\x1b[K     |███████                         | 215kB 28.4MB/s eta 0:00:01',\n",
              " '\\x1b[K     |███████▎                        | 225kB 28.4MB/s eta 0:00:01',\n",
              " '\\x1b[K     |███████▋                        | 235kB 28.4MB/s eta 0:00:01',\n",
              " '\\x1b[K     |████████                        | 245kB 28.4MB/s eta 0:00:01',\n",
              " '\\x1b[K     |████████▎                       | 256kB 28.4MB/s eta 0:00:01',\n",
              " '\\x1b[K     |████████▋                       | 266kB 28.4MB/s eta 0:00:01',\n",
              " '\\x1b[K     |█████████                       | 276kB 28.4MB/s eta 0:00:01',\n",
              " '\\x1b[K     |█████████▎                      | 286kB 28.4MB/s eta 0:00:01',\n",
              " '\\x1b[K     |█████████▌                      | 296kB 28.4MB/s eta 0:00:01',\n",
              " '\\x1b[K     |█████████▉                      | 307kB 28.4MB/s eta 0:00:01',\n",
              " '\\x1b[K     |██████████▏                     | 317kB 28.4MB/s eta 0:00:01',\n",
              " '\\x1b[K     |██████████▌                     | 327kB 28.4MB/s eta 0:00:01',\n",
              " '\\x1b[K     |██████████▉                     | 337kB 28.4MB/s eta 0:00:01',\n",
              " '\\x1b[K     |███████████▏                    | 348kB 28.4MB/s eta 0:00:01',\n",
              " '\\x1b[K     |███████████▌                    | 358kB 28.4MB/s eta 0:00:01',\n",
              " '\\x1b[K     |███████████▉                    | 368kB 28.4MB/s eta 0:00:01',\n",
              " '\\x1b[K     |████████████▏                   | 378kB 28.4MB/s eta 0:00:01',\n",
              " '\\x1b[K     |████████████▌                   | 389kB 28.4MB/s eta 0:00:01',\n",
              " '\\x1b[K     |████████████▉                   | 399kB 28.4MB/s eta 0:00:01',\n",
              " '\\x1b[K     |█████████████▏                  | 409kB 28.4MB/s eta 0:00:01',\n",
              " '\\x1b[K     |█████████████▌                  | 419kB 28.4MB/s eta 0:00:01',\n",
              " '\\x1b[K     |█████████████▉                  | 430kB 28.4MB/s eta 0:00:01',\n",
              " '\\x1b[K     |██████████████▏                 | 440kB 28.4MB/s eta 0:00:01',\n",
              " '\\x1b[K     |██████████████▌                 | 450kB 28.4MB/s eta 0:00:01',\n",
              " '\\x1b[K     |██████████████▉                 | 460kB 28.4MB/s eta 0:00:01',\n",
              " '\\x1b[K     |███████████████▏                | 471kB 28.4MB/s eta 0:00:01',\n",
              " '\\x1b[K     |███████████████▌                | 481kB 28.4MB/s eta 0:00:01',\n",
              " '\\x1b[K     |███████████████▉                | 491kB 28.4MB/s eta 0:00:01',\n",
              " '\\x1b[K     |████████████████▏               | 501kB 28.4MB/s eta 0:00:01',\n",
              " '\\x1b[K     |████████████████▌               | 512kB 28.4MB/s eta 0:00:01',\n",
              " '\\x1b[K     |████████████████▉               | 522kB 28.4MB/s eta 0:00:01',\n",
              " '\\x1b[K     |█████████████████▏              | 532kB 28.4MB/s eta 0:00:01',\n",
              " '\\x1b[K     |█████████████████▌              | 542kB 28.4MB/s eta 0:00:01',\n",
              " '\\x1b[K     |█████████████████▉              | 552kB 28.4MB/s eta 0:00:01',\n",
              " '\\x1b[K     |██████████████████▏             | 563kB 28.4MB/s eta 0:00:01',\n",
              " '\\x1b[K     |██████████████████▌             | 573kB 28.4MB/s eta 0:00:01',\n",
              " '\\x1b[K     |██████████████████▊             | 583kB 28.4MB/s eta 0:00:01',\n",
              " '\\x1b[K     |███████████████████             | 593kB 28.4MB/s eta 0:00:01',\n",
              " '\\x1b[K     |███████████████████▍            | 604kB 28.4MB/s eta 0:00:01',\n",
              " '\\x1b[K     |███████████████████▊            | 614kB 28.4MB/s eta 0:00:01',\n",
              " '\\x1b[K     |████████████████████            | 624kB 28.4MB/s eta 0:00:01',\n",
              " '\\x1b[K     |████████████████████▍           | 634kB 28.4MB/s eta 0:00:01',\n",
              " '\\x1b[K     |████████████████████▊           | 645kB 28.4MB/s eta 0:00:01',\n",
              " '\\x1b[K     |█████████████████████           | 655kB 28.4MB/s eta 0:00:01',\n",
              " '\\x1b[K     |█████████████████████▍          | 665kB 28.4MB/s eta 0:00:01',\n",
              " '\\x1b[K     |█████████████████████▊          | 675kB 28.4MB/s eta 0:00:01',\n",
              " '\\x1b[K     |██████████████████████          | 686kB 28.4MB/s eta 0:00:01',\n",
              " '\\x1b[K     |██████████████████████▍         | 696kB 28.4MB/s eta 0:00:01',\n",
              " '\\x1b[K     |██████████████████████▊         | 706kB 28.4MB/s eta 0:00:01',\n",
              " '\\x1b[K     |███████████████████████         | 716kB 28.4MB/s eta 0:00:01',\n",
              " '\\x1b[K     |███████████████████████▍        | 727kB 28.4MB/s eta 0:00:01',\n",
              " '\\x1b[K     |███████████████████████▊        | 737kB 28.4MB/s eta 0:00:01',\n",
              " '\\x1b[K     |████████████████████████        | 747kB 28.4MB/s eta 0:00:01',\n",
              " '\\x1b[K     |████████████████████████▍       | 757kB 28.4MB/s eta 0:00:01',\n",
              " '\\x1b[K     |████████████████████████▊       | 768kB 28.4MB/s eta 0:00:01',\n",
              " '\\x1b[K     |█████████████████████████       | 778kB 28.4MB/s eta 0:00:01',\n",
              " '\\x1b[K     |█████████████████████████▍      | 788kB 28.4MB/s eta 0:00:01',\n",
              " '\\x1b[K     |█████████████████████████▊      | 798kB 28.4MB/s eta 0:00:01',\n",
              " '\\x1b[K     |██████████████████████████      | 808kB 28.4MB/s eta 0:00:01',\n",
              " '\\x1b[K     |██████████████████████████▍     | 819kB 28.4MB/s eta 0:00:01',\n",
              " '\\x1b[K     |██████████████████████████▊     | 829kB 28.4MB/s eta 0:00:01',\n",
              " '\\x1b[K     |███████████████████████████     | 839kB 28.4MB/s eta 0:00:01',\n",
              " '\\x1b[K     |███████████████████████████▍    | 849kB 28.4MB/s eta 0:00:01',\n",
              " '\\x1b[K     |███████████████████████████▊    | 860kB 28.4MB/s eta 0:00:01',\n",
              " '\\x1b[K     |████████████████████████████    | 870kB 28.4MB/s eta 0:00:01',\n",
              " '\\x1b[K     |████████████████████████████▎   | 880kB 28.4MB/s eta 0:00:01',\n",
              " '\\x1b[K     |████████████████████████████▋   | 890kB 28.4MB/s eta 0:00:01',\n",
              " '\\x1b[K     |█████████████████████████████   | 901kB 28.4MB/s eta 0:00:01',\n",
              " '\\x1b[K     |█████████████████████████████▎  | 911kB 28.4MB/s eta 0:00:01',\n",
              " '\\x1b[K     |█████████████████████████████▋  | 921kB 28.4MB/s eta 0:00:01',\n",
              " '\\x1b[K     |██████████████████████████████  | 931kB 28.4MB/s eta 0:00:01',\n",
              " '\\x1b[K     |██████████████████████████████▎ | 942kB 28.4MB/s eta 0:00:01',\n",
              " '\\x1b[K     |██████████████████████████████▋ | 952kB 28.4MB/s eta 0:00:01',\n",
              " '\\x1b[K     |███████████████████████████████ | 962kB 28.4MB/s eta 0:00:01',\n",
              " '\\x1b[K     |███████████████████████████████▎| 972kB 28.4MB/s eta 0:00:01',\n",
              " '\\x1b[K     |███████████████████████████████▋| 983kB 28.4MB/s eta 0:00:01',\n",
              " '\\x1b[K     |████████████████████████████████| 993kB 28.4MB/s eta 0:00:01',\n",
              " '\\x1b[K     |████████████████████████████████| 1.0MB 28.4MB/s ',\n",
              " '\\x1b[?25hRequirement already satisfied: chardet==3.* in /usr/local/lib/python3.6/dist-packages (from httpx==0.13.3->googletrans==3.1.0a0) (3.0.4)',\n",
              " 'Requirement already satisfied: idna==2.* in /usr/local/lib/python3.6/dist-packages (from httpx==0.13.3->googletrans==3.1.0a0) (2.10)',\n",
              " 'Collecting h11<0.10,>=0.8',\n",
              " '\\x1b[?25l  Downloading https://files.pythonhosted.org/packages/5a/fd/3dad730b0f95e78aeeb742f96fa7bbecbdd56a58e405d3da440d5bfb90c6/h11-0.9.0-py2.py3-none-any.whl (53kB)',\n",
              " '',\n",
              " '\\x1b[K     |██████▏                         | 10kB 18.2MB/s eta 0:00:01',\n",
              " '\\x1b[K     |████████████▎                   | 20kB 26.0MB/s eta 0:00:01',\n",
              " '\\x1b[K     |██████████████████▍             | 30kB 32.7MB/s eta 0:00:01',\n",
              " '\\x1b[K     |████████████████████████▌       | 40kB 37.3MB/s eta 0:00:01',\n",
              " '\\x1b[K     |██████████████████████████████▋ | 51kB 38.9MB/s eta 0:00:01',\n",
              " '\\x1b[K     |████████████████████████████████| 61kB 6.9MB/s ',\n",
              " '\\x1b[?25hCollecting h2==3.*',\n",
              " '\\x1b[?25l  Downloading https://files.pythonhosted.org/packages/25/de/da019bcc539eeab02f6d45836f23858ac467f584bfec7a526ef200242afe/h2-3.2.0-py2.py3-none-any.whl (65kB)',\n",
              " '',\n",
              " '\\x1b[K     |█████                           | 10kB 17.6MB/s eta 0:00:01',\n",
              " '\\x1b[K     |██████████                      | 20kB 24.7MB/s eta 0:00:01',\n",
              " '\\x1b[K     |███████████████▏                | 30kB 31.1MB/s eta 0:00:01',\n",
              " '\\x1b[K     |████████████████████▏           | 40kB 34.6MB/s eta 0:00:01',\n",
              " '\\x1b[K     |█████████████████████████▏      | 51kB 36.7MB/s eta 0:00:01',\n",
              " '\\x1b[K     |██████████████████████████████▎ | 61kB 39.6MB/s eta 0:00:01',\n",
              " '\\x1b[K     |████████████████████████████████| 71kB 8.4MB/s ',\n",
              " '\\x1b[?25hCollecting contextvars>=2.1; python_version < \"3.7\"',\n",
              " '  Downloading https://files.pythonhosted.org/packages/83/96/55b82d9f13763be9d672622e1b8106c85acb83edd7cc2fa5bc67cd9877e9/contextvars-2.4.tar.gz',\n",
              " 'Collecting hpack<4,>=3.0',\n",
              " '  Downloading https://files.pythonhosted.org/packages/8a/cc/e53517f4a1e13f74776ca93271caef378dadec14d71c61c949d759d3db69/hpack-3.0.0-py2.py3-none-any.whl',\n",
              " 'Collecting hyperframe<6,>=5.2.0',\n",
              " '  Downloading https://files.pythonhosted.org/packages/19/0c/bf88182bcb5dce3094e2f3e4fe20db28a9928cb7bd5b08024030e4b140db/hyperframe-5.2.0-py2.py3-none-any.whl',\n",
              " 'Collecting immutables>=0.9',\n",
              " '\\x1b[?25l  Downloading https://files.pythonhosted.org/packages/99/e0/ea6fd4697120327d26773b5a84853f897a68e33d3f9376b00a8ff96e4f63/immutables-0.14-cp36-cp36m-manylinux1_x86_64.whl (98kB)',\n",
              " '',\n",
              " '\\x1b[K     |███▎                            | 10kB 15.6MB/s eta 0:00:01',\n",
              " '\\x1b[K     |██████▋                         | 20kB 22.0MB/s eta 0:00:01',\n",
              " '\\x1b[K     |██████████                      | 30kB 28.0MB/s eta 0:00:01',\n",
              " '\\x1b[K     |█████████████▎                  | 40kB 32.2MB/s eta 0:00:01',\n",
              " '\\x1b[K     |████████████████▋               | 51kB 35.1MB/s eta 0:00:01',\n",
              " '\\x1b[K     |████████████████████            | 61kB 34.5MB/s eta 0:00:01',\n",
              " '\\x1b[K     |███████████████████████▎        | 71kB 35.1MB/s eta 0:00:01',\n",
              " '\\x1b[K     |██████████████████████████▋     | 81kB 36.3MB/s eta 0:00:01',\n",
              " '\\x1b[K     |██████████████████████████████  | 92kB 37.2MB/s eta 0:00:01',\n",
              " '\\x1b[K     |████████████████████████████████| 102kB 11.1MB/s ',\n",
              " '\\x1b[?25hBuilding wheels for collected packages: googletrans, contextvars',\n",
              " '  Building wheel for googletrans (setup.py) ... \\x1b[?25l\\x1b[?25hdone',\n",
              " '  Created wheel for googletrans: filename=googletrans-3.1.0a0-cp36-none-any.whl size=16368 sha256=e4c520f9cfb26859a7a7b452284e33512a92fd56bd80558861b57fc45da348bf',\n",
              " '  Stored in directory: /root/.cache/pip/wheels/27/7a/a0/aff3babbb775549ce6813cb8fa7ff3c0848c4dc62c20f8fdac',\n",
              " '  Building wheel for contextvars (setup.py) ... \\x1b[?25l\\x1b[?25hdone',\n",
              " '  Created wheel for contextvars: filename=contextvars-2.4-cp36-none-any.whl size=7667 sha256=815650c7bbcedafc205ca2b63dec55168e396da40d3a4d1b3775e12085a202f7',\n",
              " '  Stored in directory: /root/.cache/pip/wheels/a5/7d/68/1ebae2668bda2228686e3c1cf16f2c2384cea6e9334ad5f6de',\n",
              " 'Successfully built googletrans contextvars',\n",
              " 'Installing collected packages: h11, immutables, contextvars, sniffio, hpack, hyperframe, h2, httpcore, rfc3986, hstspreload, httpx, googletrans',\n",
              " 'Successfully installed contextvars-2.4 googletrans-3.1.0a0 h11-0.9.0 h2-3.2.0 hpack-3.0.0 hstspreload-2020.12.22 httpcore-0.9.1 httpx-0.13.3 hyperframe-5.2.0 immutables-0.14 rfc3986-1.4.0 sniffio-1.2.0']"
            ]
          },
          "metadata": {
            "tags": []
          },
          "execution_count": 2
        }
      ]
    },
    {
      "cell_type": "code",
      "metadata": {
        "colab": {
          "base_uri": "https://localhost:8080/"
        },
        "id": "JCmGS8X_iU0q",
        "outputId": "0602165f-3849-46ac-be20-94e5aa956450"
      },
      "source": [
        "import pandas as pd\n",
        "import string\n",
        "import re\n",
        "#read data train\n",
        "data_asli=pd.read_csv('/content/drive/MyDrive/fd-dataset-emina-11000.csv', encoding='latin1')\n",
        "\n",
        "print(len(data_asli))\n",
        "data_asli.head(1)\n",
        "data_asli.count()"
      ],
      "execution_count": null,
      "outputs": [
        {
          "output_type": "stream",
          "text": [
            "11119\n"
          ],
          "name": "stdout"
        },
        {
          "output_type": "execute_result",
          "data": {
            "text/plain": [
              "review    11119\n",
              "dtype: int64"
            ]
          },
          "metadata": {
            "tags": []
          },
          "execution_count": 3
        }
      ]
    },
    {
      "cell_type": "code",
      "metadata": {
        "colab": {
          "base_uri": "https://localhost:8080/",
          "height": 252
        },
        "id": "yFm2747XivMZ",
        "outputId": "fa9ab24b-c668-4f03-8a4d-f761000e5c8b"
      },
      "source": [
        "# menghapus duplikasi ulasan\n",
        "data_asli=data_asli[~data_asli['review'].duplicated()]\n",
        "data_asli=data_asli.reset_index(drop=True)\n",
        "print(len(data_asli))\n",
        "print(data_asli.review[0])\n",
        "data_asli.head()"
      ],
      "execution_count": null,
      "outputs": [
        {
          "output_type": "stream",
          "text": [
            "11086\n",
            "Ini cukup bagus sih untuk cream blush dengan harga yang murah. Sekarang juga pilihan warnanya makin beragam kan! Akan cocok bagi yang suka pake natural makeup. Pertama kali beli ini itu yang shade-shade awal kalo gasalah pink sama apa gitu. Nah awal2 tuh merasa agak tricky pake produknya, entah kurang banyak atau kebanyakan. Tapi kayanya shade-shade baru lebih aplicable dibanding yg shade dulu ya. Trus juga harganya muraaaah bgt sih jd good deal bagi pemakai make up pemula dan untuk sehari2.\n"
          ],
          "name": "stdout"
        },
        {
          "output_type": "execute_result",
          "data": {
            "text/html": [
              "<div>\n",
              "<style scoped>\n",
              "    .dataframe tbody tr th:only-of-type {\n",
              "        vertical-align: middle;\n",
              "    }\n",
              "\n",
              "    .dataframe tbody tr th {\n",
              "        vertical-align: top;\n",
              "    }\n",
              "\n",
              "    .dataframe thead th {\n",
              "        text-align: right;\n",
              "    }\n",
              "</style>\n",
              "<table border=\"1\" class=\"dataframe\">\n",
              "  <thead>\n",
              "    <tr style=\"text-align: right;\">\n",
              "      <th></th>\n",
              "      <th>review</th>\n",
              "    </tr>\n",
              "  </thead>\n",
              "  <tbody>\n",
              "    <tr>\n",
              "      <th>0</th>\n",
              "      <td>Ini cukup bagus sih untuk cream blush dengan h...</td>\n",
              "    </tr>\n",
              "    <tr>\n",
              "      <th>1</th>\n",
              "      <td>Well, lumayan sih ini.. Gak terlalu pigmented ...</td>\n",
              "    </tr>\n",
              "    <tr>\n",
              "      <th>2</th>\n",
              "      <td>produk ini cocok banget sih dipake buat make u...</td>\n",
              "    </tr>\n",
              "    <tr>\n",
              "      <th>3</th>\n",
              "      <td>BLUSH LIQUID KECINTAAN!!! udah murah trs hasil...</td>\n",
              "    </tr>\n",
              "    <tr>\n",
              "      <th>4</th>\n",
              "      <td>Hmm suka nya dia kecil dan ringan tp ini maken...</td>\n",
              "    </tr>\n",
              "  </tbody>\n",
              "</table>\n",
              "</div>"
            ],
            "text/plain": [
              "                                              review\n",
              "0  Ini cukup bagus sih untuk cream blush dengan h...\n",
              "1  Well, lumayan sih ini.. Gak terlalu pigmented ...\n",
              "2  produk ini cocok banget sih dipake buat make u...\n",
              "3  BLUSH LIQUID KECINTAAN!!! udah murah trs hasil...\n",
              "4  Hmm suka nya dia kecil dan ringan tp ini maken..."
            ]
          },
          "metadata": {
            "tags": []
          },
          "execution_count": 4
        }
      ]
    },
    {
      "cell_type": "code",
      "metadata": {
        "id": "y-YmVjGYivVm"
      },
      "source": [
        "data_train=data_asli"
      ],
      "execution_count": null,
      "outputs": []
    },
    {
      "cell_type": "code",
      "metadata": {
        "colab": {
          "base_uri": "https://localhost:8080/",
          "height": 235
        },
        "id": "1JcSZa4NivY1",
        "outputId": "a95b5f3f-fdbc-4a91-8171-e1771683dfa6"
      },
      "source": [
        "# mengubah ke bentuk lower case\n",
        "for i in range(len(data_train)):\n",
        "    review = str.lower(data_train['review'].iloc[i])\n",
        "    data_train['review'].iloc[i]=review\n",
        "print(data_train['review'][0])\n",
        "data_train.head()"
      ],
      "execution_count": null,
      "outputs": [
        {
          "output_type": "stream",
          "text": [
            "ini cukup bagus sih untuk cream blush dengan harga yang murah sekarang juga pilihan warnanya makin beragam kan akan cocok bagi yang suka pake natural makeup pertama kali beli ini itu yang shade shade awal kalo gasalah pink sama apa gitu nah awal tuh merasa agak tricky pake produknya entah kurang banyak atau kebanyakan tapi kayanya shade shade baru lebih aplicable dibanding yg shade dulu ya trus juga harganya muraaaah bgt sih jd good deal bagi pemakai make up pemula dan untuk sehari \n"
          ],
          "name": "stdout"
        },
        {
          "output_type": "execute_result",
          "data": {
            "text/html": [
              "<div>\n",
              "<style scoped>\n",
              "    .dataframe tbody tr th:only-of-type {\n",
              "        vertical-align: middle;\n",
              "    }\n",
              "\n",
              "    .dataframe tbody tr th {\n",
              "        vertical-align: top;\n",
              "    }\n",
              "\n",
              "    .dataframe thead th {\n",
              "        text-align: right;\n",
              "    }\n",
              "</style>\n",
              "<table border=\"1\" class=\"dataframe\">\n",
              "  <thead>\n",
              "    <tr style=\"text-align: right;\">\n",
              "      <th></th>\n",
              "      <th>review</th>\n",
              "    </tr>\n",
              "  </thead>\n",
              "  <tbody>\n",
              "    <tr>\n",
              "      <th>0</th>\n",
              "      <td>ini cukup bagus sih untuk cream blush dengan h...</td>\n",
              "    </tr>\n",
              "    <tr>\n",
              "      <th>1</th>\n",
              "      <td>well lumayan sih ini gak terlalu pigmented tap...</td>\n",
              "    </tr>\n",
              "    <tr>\n",
              "      <th>2</th>\n",
              "      <td>produk ini cocok banget sih dipake buat make u...</td>\n",
              "    </tr>\n",
              "    <tr>\n",
              "      <th>3</th>\n",
              "      <td>blush liquid kecintaan udah murah trs hasilnya...</td>\n",
              "    </tr>\n",
              "    <tr>\n",
              "      <th>4</th>\n",
              "      <td>hmm suka nya dia kecil dan ringan tp ini maken...</td>\n",
              "    </tr>\n",
              "  </tbody>\n",
              "</table>\n",
              "</div>"
            ],
            "text/plain": [
              "                                              review\n",
              "0  ini cukup bagus sih untuk cream blush dengan h...\n",
              "1  well lumayan sih ini gak terlalu pigmented tap...\n",
              "2  produk ini cocok banget sih dipake buat make u...\n",
              "3  blush liquid kecintaan udah murah trs hasilnya...\n",
              "4  hmm suka nya dia kecil dan ringan tp ini maken..."
            ]
          },
          "metadata": {
            "tags": []
          },
          "execution_count": 10
        }
      ]
    },
    {
      "cell_type": "code",
      "metadata": {
        "colab": {
          "base_uri": "https://localhost:8080/",
          "height": 235
        },
        "id": "nzUckrkPivbn",
        "outputId": "1694adf1-2b9f-4208-f706-aeeb79c3a3bb"
      },
      "source": [
        "# menghapus angka\n",
        "pattern=r'[0-9]+'\n",
        "for i in range(len(data_train)):\n",
        "    data_train['review'].iloc[i] = re.sub(pattern,' ', data_train['review'].iloc[i], flags=re.MULTILINE)\n",
        "print(data_train['review'][0])\n",
        "data_train.head()"
      ],
      "execution_count": null,
      "outputs": [
        {
          "output_type": "stream",
          "text": [
            "Ini cukup bagus sih untuk cream blush dengan harga yang murah. Sekarang juga pilihan warnanya makin beragam kan! Akan cocok bagi yang suka pake natural makeup. Pertama kali beli ini itu yang shade-shade awal kalo gasalah pink sama apa gitu. Nah awal  tuh merasa agak tricky pake produknya, entah kurang banyak atau kebanyakan. Tapi kayanya shade-shade baru lebih aplicable dibanding yg shade dulu ya. Trus juga harganya muraaaah bgt sih jd good deal bagi pemakai make up pemula dan untuk sehari .\n"
          ],
          "name": "stdout"
        },
        {
          "output_type": "execute_result",
          "data": {
            "text/html": [
              "<div>\n",
              "<style scoped>\n",
              "    .dataframe tbody tr th:only-of-type {\n",
              "        vertical-align: middle;\n",
              "    }\n",
              "\n",
              "    .dataframe tbody tr th {\n",
              "        vertical-align: top;\n",
              "    }\n",
              "\n",
              "    .dataframe thead th {\n",
              "        text-align: right;\n",
              "    }\n",
              "</style>\n",
              "<table border=\"1\" class=\"dataframe\">\n",
              "  <thead>\n",
              "    <tr style=\"text-align: right;\">\n",
              "      <th></th>\n",
              "      <th>review</th>\n",
              "    </tr>\n",
              "  </thead>\n",
              "  <tbody>\n",
              "    <tr>\n",
              "      <th>0</th>\n",
              "      <td>Ini cukup bagus sih untuk cream blush dengan h...</td>\n",
              "    </tr>\n",
              "    <tr>\n",
              "      <th>1</th>\n",
              "      <td>Well, lumayan sih ini.. Gak terlalu pigmented ...</td>\n",
              "    </tr>\n",
              "    <tr>\n",
              "      <th>2</th>\n",
              "      <td>produk ini cocok banget sih dipake buat make u...</td>\n",
              "    </tr>\n",
              "    <tr>\n",
              "      <th>3</th>\n",
              "      <td>BLUSH LIQUID KECINTAAN!!! udah murah trs hasil...</td>\n",
              "    </tr>\n",
              "    <tr>\n",
              "      <th>4</th>\n",
              "      <td>Hmm suka nya dia kecil dan ringan tp ini maken...</td>\n",
              "    </tr>\n",
              "  </tbody>\n",
              "</table>\n",
              "</div>"
            ],
            "text/plain": [
              "                                              review\n",
              "0  Ini cukup bagus sih untuk cream blush dengan h...\n",
              "1  Well, lumayan sih ini.. Gak terlalu pigmented ...\n",
              "2  produk ini cocok banget sih dipake buat make u...\n",
              "3  BLUSH LIQUID KECINTAAN!!! udah murah trs hasil...\n",
              "4  Hmm suka nya dia kecil dan ringan tp ini maken..."
            ]
          },
          "metadata": {
            "tags": []
          },
          "execution_count": 6
        }
      ]
    },
    {
      "cell_type": "code",
      "metadata": {
        "colab": {
          "base_uri": "https://localhost:8080/",
          "height": 235
        },
        "id": "ArWS_Q-Wivd9",
        "outputId": "e8a8cabe-3526-4ba5-f5f4-2744a8e13a83"
      },
      "source": [
        "# menghapus bad karakter dan tanda baca\n",
        "pattern=r'[^A-Za-z ]'\n",
        "for i in range(len(data_train)):\n",
        "    data_train['review'].iloc[i] = re.sub(pattern,' ', data_train['review'].iloc[i], flags=re.MULTILINE)\n",
        "print(data_train['review'][0])\n",
        "data_train.head()"
      ],
      "execution_count": null,
      "outputs": [
        {
          "output_type": "stream",
          "text": [
            "Ini cukup bagus sih untuk cream blush dengan harga yang murah  Sekarang juga pilihan warnanya makin beragam kan  Akan cocok bagi yang suka pake natural makeup  Pertama kali beli ini itu yang shade shade awal kalo gasalah pink sama apa gitu  Nah awal  tuh merasa agak tricky pake produknya  entah kurang banyak atau kebanyakan  Tapi kayanya shade shade baru lebih aplicable dibanding yg shade dulu ya  Trus juga harganya muraaaah bgt sih jd good deal bagi pemakai make up pemula dan untuk sehari  \n"
          ],
          "name": "stdout"
        },
        {
          "output_type": "execute_result",
          "data": {
            "text/html": [
              "<div>\n",
              "<style scoped>\n",
              "    .dataframe tbody tr th:only-of-type {\n",
              "        vertical-align: middle;\n",
              "    }\n",
              "\n",
              "    .dataframe tbody tr th {\n",
              "        vertical-align: top;\n",
              "    }\n",
              "\n",
              "    .dataframe thead th {\n",
              "        text-align: right;\n",
              "    }\n",
              "</style>\n",
              "<table border=\"1\" class=\"dataframe\">\n",
              "  <thead>\n",
              "    <tr style=\"text-align: right;\">\n",
              "      <th></th>\n",
              "      <th>review</th>\n",
              "    </tr>\n",
              "  </thead>\n",
              "  <tbody>\n",
              "    <tr>\n",
              "      <th>0</th>\n",
              "      <td>Ini cukup bagus sih untuk cream blush dengan h...</td>\n",
              "    </tr>\n",
              "    <tr>\n",
              "      <th>1</th>\n",
              "      <td>Well  lumayan sih ini   Gak terlalu pigmented ...</td>\n",
              "    </tr>\n",
              "    <tr>\n",
              "      <th>2</th>\n",
              "      <td>produk ini cocok banget sih dipake buat make u...</td>\n",
              "    </tr>\n",
              "    <tr>\n",
              "      <th>3</th>\n",
              "      <td>BLUSH LIQUID KECINTAAN    udah murah trs hasil...</td>\n",
              "    </tr>\n",
              "    <tr>\n",
              "      <th>4</th>\n",
              "      <td>Hmm suka nya dia kecil dan ringan tp ini maken...</td>\n",
              "    </tr>\n",
              "  </tbody>\n",
              "</table>\n",
              "</div>"
            ],
            "text/plain": [
              "                                              review\n",
              "0  Ini cukup bagus sih untuk cream blush dengan h...\n",
              "1  Well  lumayan sih ini   Gak terlalu pigmented ...\n",
              "2  produk ini cocok banget sih dipake buat make u...\n",
              "3  BLUSH LIQUID KECINTAAN    udah murah trs hasil...\n",
              "4  Hmm suka nya dia kecil dan ringan tp ini maken..."
            ]
          },
          "metadata": {
            "tags": []
          },
          "execution_count": 7
        }
      ]
    },
    {
      "cell_type": "code",
      "metadata": {
        "colab": {
          "base_uri": "https://localhost:8080/",
          "height": 235
        },
        "id": "Id5oQlYQivh-",
        "outputId": "1e92add3-b54c-4edb-eea1-94eb50071d83"
      },
      "source": [
        "#menghapus spasi ganda\n",
        "for i in range(len(data_train)):\n",
        "    data_train['review'].iloc[i] = re.sub(' +',' ', data_train['review'].iloc[i], flags=re.MULTILINE)\n",
        "print(data_train['review'][0])\n",
        "data_train.head()"
      ],
      "execution_count": null,
      "outputs": [
        {
          "output_type": "stream",
          "text": [
            "Ini cukup bagus sih untuk cream blush dengan harga yang murah Sekarang juga pilihan warnanya makin beragam kan Akan cocok bagi yang suka pake natural makeup Pertama kali beli ini itu yang shade shade awal kalo gasalah pink sama apa gitu Nah awal tuh merasa agak tricky pake produknya entah kurang banyak atau kebanyakan Tapi kayanya shade shade baru lebih aplicable dibanding yg shade dulu ya Trus juga harganya muraaaah bgt sih jd good deal bagi pemakai make up pemula dan untuk sehari \n"
          ],
          "name": "stdout"
        },
        {
          "output_type": "execute_result",
          "data": {
            "text/html": [
              "<div>\n",
              "<style scoped>\n",
              "    .dataframe tbody tr th:only-of-type {\n",
              "        vertical-align: middle;\n",
              "    }\n",
              "\n",
              "    .dataframe tbody tr th {\n",
              "        vertical-align: top;\n",
              "    }\n",
              "\n",
              "    .dataframe thead th {\n",
              "        text-align: right;\n",
              "    }\n",
              "</style>\n",
              "<table border=\"1\" class=\"dataframe\">\n",
              "  <thead>\n",
              "    <tr style=\"text-align: right;\">\n",
              "      <th></th>\n",
              "      <th>review</th>\n",
              "    </tr>\n",
              "  </thead>\n",
              "  <tbody>\n",
              "    <tr>\n",
              "      <th>0</th>\n",
              "      <td>Ini cukup bagus sih untuk cream blush dengan h...</td>\n",
              "    </tr>\n",
              "    <tr>\n",
              "      <th>1</th>\n",
              "      <td>Well lumayan sih ini Gak terlalu pigmented tap...</td>\n",
              "    </tr>\n",
              "    <tr>\n",
              "      <th>2</th>\n",
              "      <td>produk ini cocok banget sih dipake buat make u...</td>\n",
              "    </tr>\n",
              "    <tr>\n",
              "      <th>3</th>\n",
              "      <td>BLUSH LIQUID KECINTAAN udah murah trs hasilnya...</td>\n",
              "    </tr>\n",
              "    <tr>\n",
              "      <th>4</th>\n",
              "      <td>Hmm suka nya dia kecil dan ringan tp ini maken...</td>\n",
              "    </tr>\n",
              "  </tbody>\n",
              "</table>\n",
              "</div>"
            ],
            "text/plain": [
              "                                              review\n",
              "0  Ini cukup bagus sih untuk cream blush dengan h...\n",
              "1  Well lumayan sih ini Gak terlalu pigmented tap...\n",
              "2  produk ini cocok banget sih dipake buat make u...\n",
              "3  BLUSH LIQUID KECINTAAN udah murah trs hasilnya...\n",
              "4  Hmm suka nya dia kecil dan ringan tp ini maken..."
            ]
          },
          "metadata": {
            "tags": []
          },
          "execution_count": 8
        }
      ]
    },
    {
      "cell_type": "code",
      "metadata": {
        "id": "Ni_OGU_KWTlL"
      },
      "source": [
        "data_proses=data_train\n",
        "data_proses.to_csv('/content/drive/MyDrive/coba_datacleansing.csv',encoding='utf-8')"
      ],
      "execution_count": null,
      "outputs": []
    },
    {
      "cell_type": "code",
      "metadata": {
        "colab": {
          "base_uri": "https://localhost:8080/",
          "height": 385
        },
        "id": "cDmOphSEivkG",
        "outputId": "256e8c5e-b1b9-4882-f303-02cd350b02b6"
      },
      "source": [
        "# mengubah kata tidak baku menjadi baku\n",
        "import re\n",
        "import string\n",
        "import csv\n",
        "\n",
        "reader = csv.reader(open('/content/drive/MyDrive/normalisasi.csv', 'r'))\n",
        "d = {}\n",
        "for row in reader:\n",
        "    k,v= row\n",
        "    d[str.lower(k)] = str.lower(v)\n",
        "    #print d[k]\n",
        "pat = re.compile(r\"\\b(%s)\\b\" % \"|\".join(d))\n",
        "for i in range(len(data_train)):\n",
        "    text = str.lower(data_train['review'].iloc[i])\n",
        "    text = pat.sub(lambda m: d.get(m.group()), text)\n",
        "    #print text\n",
        "    data_train['review'].iloc[i]=text\n",
        "print(data_train.review[0])\n",
        "data_train.head(10)"
      ],
      "execution_count": null,
      "outputs": [
        {
          "output_type": "stream",
          "text": [
            "ini cukup bagus sih untuk cream blush dengan harga yang murah sekarang juga pilihan warnanya makin beragam kan akan cocok bagi yang suka pakai natural makeup pertama kali beli ini itu yang shade shade awal kalau gasalah pink sama apa begitu nah awal tuh merasa agak tricky pakai produknya entah kurang banyak atau kebanyakan tetapi kayanya shade shade baru lebih aplicable dibanding yang shade dulu ya terus juga harganya muraaaah sangat sih jadi good deal bagi pemakai make up pemula dan untuk sehari \n"
          ],
          "name": "stdout"
        },
        {
          "output_type": "execute_result",
          "data": {
            "text/html": [
              "<div>\n",
              "<style scoped>\n",
              "    .dataframe tbody tr th:only-of-type {\n",
              "        vertical-align: middle;\n",
              "    }\n",
              "\n",
              "    .dataframe tbody tr th {\n",
              "        vertical-align: top;\n",
              "    }\n",
              "\n",
              "    .dataframe thead th {\n",
              "        text-align: right;\n",
              "    }\n",
              "</style>\n",
              "<table border=\"1\" class=\"dataframe\">\n",
              "  <thead>\n",
              "    <tr style=\"text-align: right;\">\n",
              "      <th></th>\n",
              "      <th>review</th>\n",
              "    </tr>\n",
              "  </thead>\n",
              "  <tbody>\n",
              "    <tr>\n",
              "      <th>0</th>\n",
              "      <td>ini cukup bagus sih untuk cream blush dengan h...</td>\n",
              "    </tr>\n",
              "    <tr>\n",
              "      <th>1</th>\n",
              "      <td>well lumayan sih ini tidak terlalu pigmented t...</td>\n",
              "    </tr>\n",
              "    <tr>\n",
              "      <th>2</th>\n",
              "      <td>produk ini cocok banget sih dipake buat make u...</td>\n",
              "    </tr>\n",
              "    <tr>\n",
              "      <th>3</th>\n",
              "      <td>blush liquid kecintaan sudah murah terus hasil...</td>\n",
              "    </tr>\n",
              "    <tr>\n",
              "      <th>4</th>\n",
              "      <td>hmm suka nya dia kecil dan ringan tetapi ini m...</td>\n",
              "    </tr>\n",
              "    <tr>\n",
              "      <th>5</th>\n",
              "      <td>blush ons liquid yang lumayan ok dengan harga ...</td>\n",
              "    </tr>\n",
              "    <tr>\n",
              "      <th>6</th>\n",
              "      <td>definisi kecil kecil cabai rawit walaupun ukur...</td>\n",
              "    </tr>\n",
              "    <tr>\n",
              "      <th>7</th>\n",
              "      <td>lumayan untuk cream blush dengan harga semurah...</td>\n",
              "    </tr>\n",
              "    <tr>\n",
              "      <th>8</th>\n",
              "      <td>saya tidak pernah pakai blush yang tidak cream...</td>\n",
              "    </tr>\n",
              "    <tr>\n",
              "      <th>9</th>\n",
              "      <td>lucu banget packagingnya dan enak untuk diapli...</td>\n",
              "    </tr>\n",
              "  </tbody>\n",
              "</table>\n",
              "</div>"
            ],
            "text/plain": [
              "                                              review\n",
              "0  ini cukup bagus sih untuk cream blush dengan h...\n",
              "1  well lumayan sih ini tidak terlalu pigmented t...\n",
              "2  produk ini cocok banget sih dipake buat make u...\n",
              "3  blush liquid kecintaan sudah murah terus hasil...\n",
              "4  hmm suka nya dia kecil dan ringan tetapi ini m...\n",
              "5  blush ons liquid yang lumayan ok dengan harga ...\n",
              "6  definisi kecil kecil cabai rawit walaupun ukur...\n",
              "7  lumayan untuk cream blush dengan harga semurah...\n",
              "8  saya tidak pernah pakai blush yang tidak cream...\n",
              "9  lucu banget packagingnya dan enak untuk diapli..."
            ]
          },
          "metadata": {
            "tags": []
          },
          "execution_count": 11
        }
      ]
    },
    {
      "cell_type": "code",
      "metadata": {
        "id": "2dLI3_mXYdxo"
      },
      "source": [
        "data_proses=data_train\n",
        "data_proses.to_csv('/content/drive/MyDrive/coba_normalization.csv',encoding='utf-8')"
      ],
      "execution_count": null,
      "outputs": []
    },
    {
      "cell_type": "code",
      "metadata": {
        "colab": {
          "base_uri": "https://localhost:8080/",
          "height": 444
        },
        "id": "LPO2aONeivmY",
        "outputId": "3d83f770-2398-45f6-e15e-36dbeaccc45a"
      },
      "source": [
        "# stemming\n",
        "from Sastrawi.Stemmer.StemmerFactory import StemmerFactory\n",
        "factory = StemmerFactory()\n",
        "stemmer = factory.create_stemmer()\n",
        "for i in range(len(data_train)):\n",
        "    sent=data_train['review'].iloc[i]\n",
        "    output = stemmer.stem(sent)\n",
        "    data_train['review'].iloc[i]=output\n",
        "print(data_train.review[0])\n",
        "data_train"
      ],
      "execution_count": null,
      "outputs": [
        {
          "output_type": "stream",
          "text": [
            "ini cukup bagus sih untuk cream blush dengan harga yang murah sekarang juga pilih warna makin agam kan akan cocok bagi yang suka pakai natural makeup pertama kali beli ini itu yang shade shade awal kalau gasalah pink sama apa begitu nah awal tuh rasa agak tricky pakai produk entah kurang banyak atau banyak tetapi kaya shade shade baru lebih aplicable banding yang shade dulu ya terus juga harga muraaaah sangat sih jadi good deal bagi pakai make up mula dan untuk hari\n"
          ],
          "name": "stdout"
        },
        {
          "output_type": "execute_result",
          "data": {
            "text/html": [
              "<div>\n",
              "<style scoped>\n",
              "    .dataframe tbody tr th:only-of-type {\n",
              "        vertical-align: middle;\n",
              "    }\n",
              "\n",
              "    .dataframe tbody tr th {\n",
              "        vertical-align: top;\n",
              "    }\n",
              "\n",
              "    .dataframe thead th {\n",
              "        text-align: right;\n",
              "    }\n",
              "</style>\n",
              "<table border=\"1\" class=\"dataframe\">\n",
              "  <thead>\n",
              "    <tr style=\"text-align: right;\">\n",
              "      <th></th>\n",
              "      <th>review</th>\n",
              "    </tr>\n",
              "  </thead>\n",
              "  <tbody>\n",
              "    <tr>\n",
              "      <th>0</th>\n",
              "      <td>ini cukup bagus sih untuk cream blush dengan h...</td>\n",
              "    </tr>\n",
              "    <tr>\n",
              "      <th>1</th>\n",
              "      <td>well lumayan sih ini tidak terlalu pigmented t...</td>\n",
              "    </tr>\n",
              "    <tr>\n",
              "      <th>2</th>\n",
              "      <td>produk ini cocok banget sih dipake buat make u...</td>\n",
              "    </tr>\n",
              "    <tr>\n",
              "      <th>3</th>\n",
              "      <td>blush liquid cinta sudah murah terus hasil bag...</td>\n",
              "    </tr>\n",
              "    <tr>\n",
              "      <th>4</th>\n",
              "      <td>hmm suka nya dia kecil dan ringan tetapi ini m...</td>\n",
              "    </tr>\n",
              "    <tr>\n",
              "      <th>...</th>\n",
              "      <td>...</td>\n",
              "    </tr>\n",
              "    <tr>\n",
              "      <th>11081</th>\n",
              "      <td>kasih sama temen yang ku racunin dan dia tidak...</td>\n",
              "    </tr>\n",
              "    <tr>\n",
              "      <th>11082</th>\n",
              "      <td>ini tuu lip tint pertama saya akhirnyaa nyoba ...</td>\n",
              "    </tr>\n",
              "    <tr>\n",
              "      <th>11083</th>\n",
              "      <td>kata mb ba warna sunglow ini yang sangat natur...</td>\n",
              "    </tr>\n",
              "    <tr>\n",
              "      <th>11084</th>\n",
              "      <td>sayang banget banget yaampun suka parah sama i...</td>\n",
              "    </tr>\n",
              "    <tr>\n",
              "      <th>11085</th>\n",
              "      <td>asli yah ini warna bikin seger bibir di bibir ...</td>\n",
              "    </tr>\n",
              "  </tbody>\n",
              "</table>\n",
              "<p>11086 rows × 1 columns</p>\n",
              "</div>"
            ],
            "text/plain": [
              "                                                  review\n",
              "0      ini cukup bagus sih untuk cream blush dengan h...\n",
              "1      well lumayan sih ini tidak terlalu pigmented t...\n",
              "2      produk ini cocok banget sih dipake buat make u...\n",
              "3      blush liquid cinta sudah murah terus hasil bag...\n",
              "4      hmm suka nya dia kecil dan ringan tetapi ini m...\n",
              "...                                                  ...\n",
              "11081  kasih sama temen yang ku racunin dan dia tidak...\n",
              "11082  ini tuu lip tint pertama saya akhirnyaa nyoba ...\n",
              "11083  kata mb ba warna sunglow ini yang sangat natur...\n",
              "11084  sayang banget banget yaampun suka parah sama i...\n",
              "11085  asli yah ini warna bikin seger bibir di bibir ...\n",
              "\n",
              "[11086 rows x 1 columns]"
            ]
          },
          "metadata": {
            "tags": []
          },
          "execution_count": 11
        }
      ]
    },
    {
      "cell_type": "code",
      "metadata": {
        "id": "WrfgIx5Yivp6"
      },
      "source": [
        "data_proses=data_train\n",
        "data_proses.to_csv('/content/drive/MyDrive/00000000BismillahSkripsi/coba_preprocessing.csv',encoding='utf-8')"
      ],
      "execution_count": null,
      "outputs": []
    },
    {
      "cell_type": "code",
      "metadata": {
        "id": "jcjn2jvPivtN"
      },
      "source": [
        "import csv\n",
        "results = []\n",
        "with open(\"/content/drive/MyDrive/00000000BismillahSkripsi/coba_preprocessing.csv\") as csvfile:\n",
        "    reader = csv.reader(csvfile, delimiter=',', quotechar='|')\n",
        "    for row in reader: # each row is a list\n",
        "        results.append(row)"
      ],
      "execution_count": null,
      "outputs": []
    },
    {
      "cell_type": "code",
      "metadata": {
        "colab": {
          "base_uri": "https://localhost:8080/"
        },
        "id": "efXQvWxcivwU",
        "outputId": "60d146c7-a563-475a-a36f-226c6cf825af"
      },
      "source": [
        "print(len(results))"
      ],
      "execution_count": null,
      "outputs": [
        {
          "output_type": "stream",
          "text": [
            "11085\n"
          ],
          "name": "stdout"
        }
      ]
    },
    {
      "cell_type": "code",
      "metadata": {
        "colab": {
          "base_uri": "https://localhost:8080/"
        },
        "id": "YkdXvYGby8gs",
        "outputId": "ac498892-6aea-414e-9df1-40675e962d9f"
      },
      "source": [
        "print(results[11])"
      ],
      "execution_count": null,
      "outputs": [
        {
          "output_type": "stream",
          "text": [
            "[1, 'wah ini krim blush pertama saya harga terjangkau sangat buat kantong remaja seperti saya gin hihihi warna saya suka sangat cocok sama saya saya sempet pakai yang nudie cokelat tapi lebih cocok ke naungan Persik ini mnrt saya ini agak geser basenya sih kalau saya pakai concealer di pipi begitu ya suka ke geser concealernya tetapi ttp bagus sih ingat harga yang murah']\n"
          ],
          "name": "stdout"
        }
      ]
    },
    {
      "cell_type": "code",
      "metadata": {
        "id": "rizT8h-riv8F"
      },
      "source": [
        ""
      ],
      "execution_count": null,
      "outputs": []
    },
    {
      "cell_type": "code",
      "metadata": {
        "id": "9BDEauaWiv-n"
      },
      "source": [
        ""
      ],
      "execution_count": null,
      "outputs": []
    },
    {
      "cell_type": "code",
      "metadata": {
        "id": "Sk6mBawhiwCS"
      },
      "source": [
        ""
      ],
      "execution_count": null,
      "outputs": []
    },
    {
      "cell_type": "code",
      "metadata": {
        "id": "49XzcU-qiwEs"
      },
      "source": [
        ""
      ],
      "execution_count": null,
      "outputs": []
    },
    {
      "cell_type": "code",
      "metadata": {
        "id": "ZPn7u5u2iwIN"
      },
      "source": [
        ""
      ],
      "execution_count": null,
      "outputs": []
    },
    {
      "cell_type": "code",
      "metadata": {
        "id": "d6hLyGe_iwKb"
      },
      "source": [
        ""
      ],
      "execution_count": null,
      "outputs": []
    },
    {
      "cell_type": "code",
      "metadata": {
        "id": "sz-F88QxiwNn"
      },
      "source": [
        ""
      ],
      "execution_count": null,
      "outputs": []
    },
    {
      "cell_type": "code",
      "metadata": {
        "id": "p9XIZoaXiwQ8"
      },
      "source": [
        ""
      ],
      "execution_count": null,
      "outputs": []
    },
    {
      "cell_type": "code",
      "metadata": {
        "id": "AJ1eIuKuiwTs"
      },
      "source": [
        ""
      ],
      "execution_count": null,
      "outputs": []
    },
    {
      "cell_type": "code",
      "metadata": {
        "id": "311a36ZwiwW6"
      },
      "source": [
        ""
      ],
      "execution_count": null,
      "outputs": []
    },
    {
      "cell_type": "code",
      "metadata": {
        "id": "t3BjKc1OiwaI"
      },
      "source": [
        ""
      ],
      "execution_count": null,
      "outputs": []
    },
    {
      "cell_type": "code",
      "metadata": {
        "id": "RBeklli7iwdk"
      },
      "source": [
        ""
      ],
      "execution_count": null,
      "outputs": []
    },
    {
      "cell_type": "code",
      "metadata": {
        "id": "NUlx2vLgiwgI"
      },
      "source": [
        ""
      ],
      "execution_count": null,
      "outputs": []
    },
    {
      "cell_type": "code",
      "metadata": {
        "id": "VZbpVPxPiwj1"
      },
      "source": [
        ""
      ],
      "execution_count": null,
      "outputs": []
    },
    {
      "cell_type": "code",
      "metadata": {
        "id": "Dy1WilUviwnG"
      },
      "source": [
        ""
      ],
      "execution_count": null,
      "outputs": []
    },
    {
      "cell_type": "code",
      "metadata": {
        "id": "ap-0qSjKiwpj"
      },
      "source": [
        ""
      ],
      "execution_count": null,
      "outputs": []
    },
    {
      "cell_type": "code",
      "metadata": {
        "id": "GItr6UnbiwtA"
      },
      "source": [
        ""
      ],
      "execution_count": null,
      "outputs": []
    },
    {
      "cell_type": "code",
      "metadata": {
        "id": "O9Wvcknqiwvl"
      },
      "source": [
        ""
      ],
      "execution_count": null,
      "outputs": []
    },
    {
      "cell_type": "code",
      "metadata": {
        "id": "ADU-xC_Niw1s"
      },
      "source": [
        ""
      ],
      "execution_count": null,
      "outputs": []
    },
    {
      "cell_type": "code",
      "metadata": {
        "id": "PFQRaQv1iw4i"
      },
      "source": [
        ""
      ],
      "execution_count": null,
      "outputs": []
    },
    {
      "cell_type": "code",
      "metadata": {
        "id": "eGn0L4qHiw7s"
      },
      "source": [
        ""
      ],
      "execution_count": null,
      "outputs": []
    },
    {
      "cell_type": "code",
      "metadata": {
        "id": "fkO7aXP0iw_g"
      },
      "source": [
        ""
      ],
      "execution_count": null,
      "outputs": []
    },
    {
      "cell_type": "code",
      "metadata": {
        "id": "rdu02cxpixCJ"
      },
      "source": [
        ""
      ],
      "execution_count": null,
      "outputs": []
    },
    {
      "cell_type": "code",
      "metadata": {
        "id": "5Ivz3JUJixH8"
      },
      "source": [
        ""
      ],
      "execution_count": null,
      "outputs": []
    },
    {
      "cell_type": "code",
      "metadata": {
        "id": "jv7etuJvixL1"
      },
      "source": [
        ""
      ],
      "execution_count": null,
      "outputs": []
    },
    {
      "cell_type": "code",
      "metadata": {
        "id": "CDF0ITCVixPj"
      },
      "source": [
        ""
      ],
      "execution_count": null,
      "outputs": []
    },
    {
      "cell_type": "code",
      "metadata": {
        "id": "G7Bjc7bdixST"
      },
      "source": [
        ""
      ],
      "execution_count": null,
      "outputs": []
    },
    {
      "cell_type": "code",
      "metadata": {
        "id": "Z_m01Y-MixV7"
      },
      "source": [
        ""
      ],
      "execution_count": null,
      "outputs": []
    },
    {
      "cell_type": "code",
      "metadata": {
        "id": "8zYJl3H4ixZV"
      },
      "source": [
        ""
      ],
      "execution_count": null,
      "outputs": []
    },
    {
      "cell_type": "code",
      "metadata": {
        "id": "oaf0b9KJixdH"
      },
      "source": [
        ""
      ],
      "execution_count": null,
      "outputs": []
    },
    {
      "cell_type": "code",
      "metadata": {
        "id": "zPp4wDY9ixgx"
      },
      "source": [
        ""
      ],
      "execution_count": null,
      "outputs": []
    },
    {
      "cell_type": "code",
      "metadata": {
        "id": "SF4hfSsiixkw"
      },
      "source": [
        ""
      ],
      "execution_count": null,
      "outputs": []
    },
    {
      "cell_type": "code",
      "metadata": {
        "id": "FdvjGAX-ixpD"
      },
      "source": [
        ""
      ],
      "execution_count": null,
      "outputs": []
    },
    {
      "cell_type": "code",
      "metadata": {
        "id": "zEBtDMMcixrh"
      },
      "source": [
        ""
      ],
      "execution_count": null,
      "outputs": []
    },
    {
      "cell_type": "code",
      "metadata": {
        "id": "nxKJteP2ixvW"
      },
      "source": [
        ""
      ],
      "execution_count": null,
      "outputs": []
    }
  ]
}